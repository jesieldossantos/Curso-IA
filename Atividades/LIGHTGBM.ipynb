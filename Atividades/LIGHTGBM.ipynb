{
 "cells": [
  {
   "cell_type": "markdown",
   "id": "76afec76",
   "metadata": {},
   "source": [
    "# LIGHTGBM"
   ]
  },
  {
   "cell_type": "markdown",
   "id": "22c384f6",
   "metadata": {},
   "source": [
    "- é uma biblioteca de aprendizado de máquina de código aberto que implementa algoritmos de gradient boosting.\n",
    "- O LightGBM implementa o algoritmo de gradient boosting, que é uma técnica de aprendizado de máquina que combina múltiplos modelos simples para criar um modelo mais complexo e preciso.\n",
    "- O LightGBM usa árvores de decisão como modelos base para o gradient boosting.\n",
    "- O LightGBM oferece uma variedade de parâmetros que podem ser ajustados para otimizar o desempenho do modelo.\n",
    "- é projetado para lidar com grandes conjuntos de dados e pode ser usado em ambientes de produção.\n"
   ]
  },
  {
   "cell_type": "markdown",
   "id": "2e24e447",
   "metadata": {},
   "source": []
  }
 ],
 "metadata": {
  "language_info": {
   "name": "python"
  }
 },
 "nbformat": 4,
 "nbformat_minor": 5
}
