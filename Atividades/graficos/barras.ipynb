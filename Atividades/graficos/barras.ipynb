{
 "cells": [
  {
   "cell_type": "markdown",
   "id": "7d0054b4",
   "metadata": {},
   "source": [
    "# BARRAS\n",
    "\n",
    "- É um gráfico de barras é uma representação visual de dados usando barras retangulares de diferentes alturas ou comprimentos para comparar diferentes categorias ou grupos de dados. É uma ferramenta fundamental para visualizar dados categóricos e analisar relações entre diferentes conjuntos de dados.\n",
    "\n"
   ]
  },
  {
   "cell_type": "markdown",
   "id": "a99d1503",
   "metadata": {},
   "source": [
    "# Como funciona:\n",
    "- O gráfico de barras utiliza dois eixos: o eixo x (horizontal) e o eixo y (vertical).\n",
    "- No eixo x, são listadas as categorias ou grupos de dados que você deseja comparar.\n",
    "- No eixo y, são representadas as quantidades ou valores numéricos correspondentes a cada categoria.\n",
    "As barras são desenhadas com alturas ou comprimentos proporcionais aos valores numéricos, permitindo uma comparação visual rápida e fácil. "
   ]
  },
  {
   "cell_type": "markdown",
   "id": "4d389755",
   "metadata": {},
   "source": [
    "# Tipos de gráficos de barras:\n",
    "\n",
    "## Gráfico de barras verticais:\n",
    "As barras são dispostas verticalmente, comparando categorias no eixo x e seus valores no eixo y. \n",
    "\n",
    "### Gráfico de barras horizontais:\n",
    "As barras são dispostas horizontalmente, comparando categorias no eixo y e seus valores no eixo x. \n",
    "#### Gráfico de barras agrupadas:\n",
    "Várias barras podem ser agrupadas para comparar diferentes conjuntos de dados para a mesma categoria. \n",
    "##### Gráfico de barras empilhadas:\n",
    "As barras são divididas em seções, onde cada seção representa uma parte do valor total para uma categoria específica. \n"
   ]
  },
  {
   "cell_type": "markdown",
   "id": "15f5a14a",
   "metadata": {},
   "source": [
    "# Por que usar gráficos de barras:\n",
    "- Comparação: Permitem comparar facilmente diferentes categorias de dados.\n",
    "\n",
    "- Análise: Ajudam a identificar padrões, tendências e outliers nos dados.\n",
    "\n",
    "- Comunicação: São uma forma visual eficaz de apresentar informações para um público mais amplo. \n",
    "\n",
    "- Em resumo, gráficos de barras são uma ferramenta versátil e poderosa para a visualização e análise de dados em Python, sendo amplamente utilizados em diversos contextos."
   ]
  },
  {
   "cell_type": "code",
   "execution_count": 1,
   "id": "d5a2c560",
   "metadata": {},
   "outputs": [],
   "source": [
    "import matplotlib.pyplot as plt\n",
    "import seaborn as sns\n",
    "import numpy as np\n",
    "\n",
    "\n",
    "\n"
   ]
  },
  {
   "cell_type": "code",
   "execution_count": 2,
   "id": "e612dff2",
   "metadata": {},
   "outputs": [],
   "source": [
    "# Gerar dados aleatórios\n",
    "np.random.seed(0)\n",
    "categorias = ['A', 'B', 'C', 'D', 'E']\n",
    "valores = np.random.randint(10, 50, size=5)"
   ]
  },
  {
   "cell_type": "code",
   "execution_count": 3,
   "id": "578619b9",
   "metadata": {},
   "outputs": [],
   "source": [
    "sns.set(style='whitegrid')\n"
   ]
  },
  {
   "cell_type": "code",
   "execution_count": 4,
   "id": "0d8da9e2",
   "metadata": {},
   "outputs": [
    {
     "data": {
      "image/png": "[encoded data removed]",
      "text/plain": [
       "<Figure size 800x600 with 1 Axes>"
      ]
     },
     "metadata": {},
     "output_type": "display_data"
    }
   ],
   "source": [
    "plt.figure(figsize=(8, 6))\n",
    "sns.barplot(x=categorias, y=valores)\n",
    "plt.title('Gráfico de Barras')\n",
    "plt.xlabel('Categoria')\n",
    "plt.ylabel('Valor')\n",
    "plt.show()\n"
   ]
  }
 ],
 "metadata": {
  "kernelspec": {
   "display_name": ".venv",
   "language": "python",
   "name": "python3"
  },
  "language_info": {
   "codemirror_mode": {
    "name": "ipython",
    "version": 3
   },
   "file_extension": ".py",
   "mimetype": "text/x-python",
   "name": "python",
   "nbconvert_exporter": "python",
   "pygments_lexer": "ipython3",
   "version": "3.13.4"
  }
 },
 "nbformat": 4,
 "nbformat_minor": 5
}
