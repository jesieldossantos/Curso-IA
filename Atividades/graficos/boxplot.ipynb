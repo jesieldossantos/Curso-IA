{
 "cells": [
  {
   "cell_type": "markdown",
   "id": "e02ba4fa",
   "metadata": {},
   "source": [
    "# BOXPLOT\n",
    "\n",
    "-   também conhecido como diagrama de caixa, é um gráfico estatístico que fornece uma representação visual da distribuição de um conjunto de dados numéricos. Ele mostra a mediana, os quartis (primeiro e terceiro), os valores mínimo e máximo, e potenciais valores discrepantes (outliers). \n"
   ]
  },
  {
   "cell_type": "markdown",
   "id": "2a84f91f",
   "metadata": {},
   "source": [
    "## O que um boxplot mostra:\n",
    "-Mediana:\n",
    "- A linha central dentro da caixa, representando o valor central dos dados. \n",
    "\n",
    "-Quartis:\n",
    "-   A caixa em si representa o intervalo interquartil (IQR), que contém 50% dos dados. \n",
    "Extremos (whiskers):\n",
    "As linhas que se estendem da caixa indicam a amplitude dos dados, com os limites sendo o valor mínimo e máximo, ou até um certo limite definido pelo cálculo de outliers. \n",
    "\n",
    "-Outliers:\n",
    "-   Pontos individuais fora dos limites dos \"whiskers\", indicando valores atípicos ou discrepantes. \n"
   ]
  },
  {
   "cell_type": "markdown",
   "id": "172ab8e4",
   "metadata": {},
   "source": []
  }
 ],
 "metadata": {
  "kernelspec": {
   "display_name": ".venv",
   "language": "python",
   "name": "python3"
  },
  "language_info": {
   "name": "python",
   "version": "3.13.4"
  }
 },
 "nbformat": 4,
 "nbformat_minor": 5
}
