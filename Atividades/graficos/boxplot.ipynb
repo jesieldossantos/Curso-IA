{
 "cells": [
  {
   "cell_type": "markdown",
   "id": "e02ba4fa",
   "metadata": {},
   "source": [
    "# BOXPLOT\n",
    "\n",
    "-   também conhecido como diagrama de caixa, é um gráfico estatístico que fornece uma representação visual da distribuição de um conjunto de dados numéricos. Ele mostra a mediana, os quartis (primeiro e terceiro), os valores mínimo e máximo, e potenciais valores discrepantes (outliers). \n"
   ]
  },
  {
   "cell_type": "markdown",
   "id": "2a84f91f",
   "metadata": {},
   "source": [
    "## O que um boxplot mostra:\n",
    "-Mediana:\n",
    "- A linha central dentro da caixa, representando o valor central dos dados. \n",
    "\n",
    "-Quartis:\n",
    "-   A caixa em si representa o intervalo interquartil (IQR), que contém 50% dos dados. \n",
    "Extremos (whiskers):\n",
    "As linhas que se estendem da caixa indicam a amplitude dos dados, com os limites sendo o valor mínimo e máximo, ou até um certo limite definido pelo cálculo de outliers. \n",
    "\n",
    "-Outliers:\n",
    "-   Pontos individuais fora dos limites dos \"whiskers\", indicando valores atípicos ou discrepantes. \n"
   ]
  },
  {
   "cell_type": "markdown",
   "id": "172ab8e4",
   "metadata": {},
   "source": []
  },
  {
   "cell_type": "code",
   "execution_count": 7,
   "id": "803da7bd",
   "metadata": {},
   "outputs": [],
   "source": [
    "import pandas as pd\n",
    "import matplotlib.pyplot as plt\n",
    "import seaborn as sns\n",
    "import numpy as np\n"
   ]
  },
  {
   "cell_type": "code",
   "execution_count": 8,
   "id": "659bfc20",
   "metadata": {},
   "outputs": [],
   "source": [
    "np.random.seed(0)\n",
    "dados1 = np.random.normal(0, 1, 100)\n",
    "dados2 = np.random.normal(2, 1.5, 100)\n",
    "dados3 = np.random.normal(4, 2, 100)\n"
   ]
  },
  {
   "cell_type": "code",
   "execution_count": 9,
   "id": "7435376a",
   "metadata": {},
   "outputs": [],
   "source": [
    "df = pd.DataFrame({\n",
    "    'Grupo': ['A'] * 100 + ['B'] * 100 + ['C'] * 100,\n",
    "    'Valor': np.concatenate([dados1, dados2, dados3])\n",
    "})\n"
   ]
  },
  {
   "cell_type": "code",
   "execution_count": 11,
   "id": "ad693678",
   "metadata": {},
   "outputs": [],
   "source": [
    "df = pd.DataFrame({\n",
    "    'Grupo': ['A'] * 100 + ['B'] * 100 + ['C'] * 100,\n",
    "    'Valor': np.concatenate([dados1, dados2, dados3])\n",
    "})\n",
    "\n"
   ]
  },
  {
   "cell_type": "code",
   "execution_count": 12,
   "id": "52c32012",
   "metadata": {},
   "outputs": [
    {
     "data": {
      "image/png": "[encoded data removed]",
      "text/plain": [
       "<Figure size 800x600 with 1 Axes>"
      ]
     },
     "metadata": {},
     "output_type": "display_data"
    }
   ],
   "source": [
    "sns.set(style='whitegrid')\n",
    "plt.figure(figsize=(8, 6))\n",
    "sns.boxplot(x='Grupo', y='Valor', data=df)\n",
    "plt.title('Boxplot de Dados Aleatórios')\n",
    "plt.xlabel('Grupo')\n",
    "plt.ylabel('Valor')\n",
    "plt.show()"
   ]
  },
  {
   "cell_type": "code",
   "execution_count": null,
   "id": "cf106513",
   "metadata": {},
   "outputs": [],
   "source": []
  }
 ],
 "metadata": {
  "kernelspec": {
   "display_name": ".venv",
   "language": "python",
   "name": "python3"
  },
  "language_info": {
   "codemirror_mode": {
    "name": "ipython",
    "version": 3
   },
   "file_extension": ".py",
   "mimetype": "text/x-python",
   "name": "python",
   "nbconvert_exporter": "python",
   "pygments_lexer": "ipython3",
   "version": "3.13.4"
  }
 },
 "nbformat": 4,
 "nbformat_minor": 5
}
