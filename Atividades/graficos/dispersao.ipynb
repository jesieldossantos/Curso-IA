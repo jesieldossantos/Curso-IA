{
 "cells": [
  {
   "cell_type": "markdown",
   "id": "340bcb71",
   "metadata": {},
   "source": [
    "# Grafico de dispersao\n",
    "\n",
    "Um gráfico de dispersão é uma representação visual de pontos em um plano cartesiano, onde cada ponto corresponde a uma observação de duas variáveis diferentes. O eixo horizontal (x) representa uma variável, enquanto o eixo vertical (y) representa a outra. Essa representação facilita a identificação de padrões e relações entre as variáveis."
   ]
  },
  {
   "cell_type": "markdown",
   "id": "86c1f815",
   "metadata": {},
   "source": [
    "## VANTAGENS\n",
    "\n",
    "- 1.Identificação de Padrões Visuais: Facilitam a identificação de padrões visuais nos dados. Se há uma tendência crescente, decrescente ou aparentemente aleatória, isso se torna evidente no gráfico.\n",
    "\n",
    "- 2.Correlação entre Variáveis: São eficazes para avaliar a correlação entre duas variáveis. Se os pontos se alinham em uma direção específica, indica uma correlação positiva ou negativa, dependendo da inclinação.\n",
    "    \n",
    "- 3.Detecção de Outliers: Outliers, ou pontos discrepantes, podem ser prontamente identificados Eles geralmente se destacam visualmente, indicando observações que se desviam significativamente do padrão geral.\n",
    "    \n",
    "- 4.Análise de Tendências e Padrões Lineares: Quando os pontos formam uma linha ou seguem uma tendência específica, isso sugere uma relação linear entre as variáveis. Isso é particularmente útil em análises de regressão.\n",
    "    \n",
    "- 5.Visualização de Clusters: Em conjuntos de dados complexos, os gráficos de dispersão podem revelar a presença de clusters ou grupos de pontos que compartilham características semelhantes.\n",
    "    \n",
    "- 6.Exploração de Relações Causais: Embora os gráficos de dispersão não estabeleçam causalidade, eles podem ser usados para explorar relações potenciais entre variáveis, fornecendo pistas para investigações mais aprofundadas.\n",
    "    \n",
    "- 7.Análise de Resíduos: Ao analisar a qualidade de modelos de regressão, os gráficos de dispersão de resíduos podem ser úteis para verificar se os resíduos (diferenças entre os valores observados e previstos) são distribuídos aleatoriamente.\n",
    "    \n",
    "- 8.Comparação entre Grupos: Se os dados podem ser categorizados em diferentes grupos, os gráficos de dispersão permitem comparar as relações entre variáveis dentro de cada grupo, destacando possíveis diferenças."
   ]
  },
  {
   "cell_type": "markdown",
   "id": "864d3b36",
   "metadata": {},
   "source": [
    "# Desvantagens\n",
    "\n",
    "- 1.Limitado a Duas Variáveis: É específico para a análise de duas variáveis, o que pode ser limitante quando lidamos com conjuntos de dados mais complexos que envolvem múltiplas variáveis.\n",
    "\n",
    "- 2.Interpretação Subjetiva: A interpretação dos padrões pode ser subjetiva, dependendo da experiência e perspectiva do observador, o que pode levar a conclusões divergentes.\n",
    "\n",
    "- 3.Influência de Escala e Unidades: Mudanças na escala ou nas unidades dos eixos podem alterar a percepção visual da relação entre as variáveis, impactando a interpretação do gráfico.\n",
    "\n",
    "- 4.Incapacidade de Provar Causalidade: Embora mostre correlações, não é capaz de provar causalidade entre as variáveis, sendo necessária uma análise mais aprofundada para esse fim.\n",
    "\n",
    "- 5.Não Adequado para Dados Categóricos: É mais apropriado para variáveis quantitativas e pode não ser a escolha ideal para representar relações entre variáveis categóricas."
   ]
  },
  {
   "cell_type": "markdown",
   "id": "8a33acdb",
   "metadata": {},
   "source": [
    "# Dicas para Utilizar Gráficos de Dispersão Efetivamente\n",
    "\n",
    "- Escolha de Cores e Marcadores: Utilize cores e marcadores distintos para destacar diferentes grupos ou características nos dados.\n",
    "\n",
    "- Adição de Linhas de Tendência: Para facilitar a interpretação, adicione linhas de tendência que melhor se ajustem aos dados.\n",
    "\n",
    "- Rótulos e Títulos Claros: Garanta que os eixos estejam rotulados adequadamente e que o título do gráfico seja informativo."
   ]
  },
  {
   "cell_type": "markdown",
   "id": "9ca334b2",
   "metadata": {},
   "source": [
    "# Tipos de Correlação Encontradas\n",
    "\n",
    "- No gráfico, padrões e disposições dos pontos revelam diversas correlações entre as variáveis. A tabela abaixo destaca algumas das correlações comuns identificadas nesse tipo de gráfico:\n",
    "\n",
    "- 1.Tipo de Correlação\tPadrão\tSignificado\n",
    "Correlação Positiva\tOs pontos no gráfico sobem da esquerda para a direita.\tÀ medida que uma variável aumenta, a outra também tende a aumentar.\n",
    "\n",
    "- 2.Correlação Negativa\tOs pontos no gráfico descem da esquerda para a direita.\tÀ medida que uma variável aumenta, a outra tende a diminuir.\n",
    "\n",
    "- 3.Correlação Linear Forte\tOs pontos formam uma linha reta clara.\tExiste uma relação linear forte entre as variáveis.\n",
    "Correlação Linear Fraca\tOs pontos formam uma linha reta, mas não de maneira muito clara.\tA relação linear entre as variáveis é mais fraca.\n",
    "\n",
    "- 4.Correlação Não Linear\tOs pontos formam uma curva ou outro padrão não linear.\tA relação entre as variáveis não segue uma linha reta.\n",
    "Correlação Nula (ou Muito Fraca)\tOs pontos estão dispersos sem seguir uma direção clara.\tNão há evidência visual de correlação entre as variáveis.\n",
    "\n",
    "- 5.Correlação em Forma de “U” ou “V”\tOs pontos formam uma distribuição em forma de “U” ou “V”.\tPode indicar uma relação não linear complexa.\n",
    "\n",
    "- 6.Correlação de Cluster\tOs pontos formam grupos ou clusters distintos.\tHá subgrupos nos dados com relações internas mais fortes.\n",
    "\n",
    "- 7.Correlação Espiral\tOs pontos formam uma espiral.\tIndica uma correlação que segue um padrão espiral.\n",
    "\n",
    "- 8.Correlação Oscilante\tOs pontos exibem uma oscilação periódica.\tPode indicar uma correlação que segue um padrão cíclico.\n",
    "\n"
   ]
  },
  {
   "cell_type": "code",
   "execution_count": 1,
   "id": "5ce6f93e",
   "metadata": {},
   "outputs": [],
   "source": [
    "import matplotlib.pyplot as plt\n",
    "import seaborn as sns\n",
    "import numpy as np\n"
   ]
  },
  {
   "cell_type": "code",
   "execution_count": 2,
   "id": "14de5db6",
   "metadata": {},
   "outputs": [],
   "source": [
    "np.random.seed(0)\n",
    "x = np.random.normal(0, 1, 100)\n",
    "y = np.random.normal(0, 1, 100)"
   ]
  },
  {
   "cell_type": "code",
   "execution_count": 3,
   "id": "dfb83684",
   "metadata": {},
   "outputs": [],
   "source": [
    "sns.set(style='whitegrid')"
   ]
  },
  {
   "cell_type": "code",
   "execution_count": 4,
   "id": "892a09c1",
   "metadata": {},
   "outputs": [
    {
     "data": {
      "text/plain": [
       "<Axes: >"
      ]
     },
     "execution_count": 4,
     "metadata": {},
     "output_type": "execute_result"
    },
    {
     "data": {
      "image/png": "[encoded data removed]",
      "text/plain": [
       "<Figure size 800x600 with 1 Axes>"
      ]
     },
     "metadata": {},
     "output_type": "display_data"
    }
   ],
   "source": [
    "plt.figure(figsize=(8, 6))\n",
    "sns.scatterplot(x=x, y=y)\n",
    "\n"
   ]
  },
  {
   "cell_type": "code",
   "execution_count": 5,
   "id": "d861e06a",
   "metadata": {},
   "outputs": [
    {
     "data": {
      "image/png": "[encoded data removed]",
      "text/plain": [
       "<Figure size 640x480 with 1 Axes>"
      ]
     },
     "metadata": {},
     "output_type": "display_data"
    }
   ],
   "source": [
    "plt.title('Gráfico de Dispersão')\n",
    "plt.xlabel('X')\n",
    "plt.ylabel('Y')\n",
    "plt.show()\n",
    "\n"
   ]
  },
  {
   "cell_type": "code",
   "execution_count": null,
   "id": "e0d1b3db",
   "metadata": {},
   "outputs": [],
   "source": []
  }
 ],
 "metadata": {
  "kernelspec": {
   "display_name": ".venv",
   "language": "python",
   "name": "python3"
  },
  "language_info": {
   "codemirror_mode": {
    "name": "ipython",
    "version": 3
   },
   "file_extension": ".py",
   "mimetype": "text/x-python",
   "name": "python",
   "nbconvert_exporter": "python",
   "pygments_lexer": "ipython3",
   "version": "3.13.4"
  }
 },
 "nbformat": 4,
 "nbformat_minor": 5
}
