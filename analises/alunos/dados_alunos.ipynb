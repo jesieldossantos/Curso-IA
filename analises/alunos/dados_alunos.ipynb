{
 "cells": [
  {
   "cell_type": "markdown",
   "id": "f6d69cb3",
   "metadata": {},
   "source": [
    "# Analises de cursos de uma faculdade"
   ]
  },
  {
   "cell_type": "code",
   "execution_count": 8,
   "id": "f56f55dc",
   "metadata": {},
   "outputs": [],
   "source": [
    "import pandas as pd\n",
    "\n",
    "import matplotlib.pyplot as plt\n",
    "\n",
    "df = pd. read_csv('dados_alunos.csv')"
   ]
  },
  {
   "cell_type": "code",
   "execution_count": 3,
   "id": "049fa7d4",
   "metadata": {},
   "outputs": [
    {
     "data": {
      "text/html": [
       "<div>\n",
       "<style scoped>\n",
       "    .dataframe tbody tr th:only-of-type {\n",
       "        vertical-align: middle;\n",
       "    }\n",
       "\n",
       "    .dataframe tbody tr th {\n",
       "        vertical-align: top;\n",
       "    }\n",
       "\n",
       "    .dataframe thead th {\n",
       "        text-align: right;\n",
       "    }\n",
       "</style>\n",
       "<table border=\"1\" class=\"dataframe\">\n",
       "  <thead>\n",
       "    <tr style=\"text-align: right;\">\n",
       "      <th></th>\n",
       "      <th>nome</th>\n",
       "      <th>idade</th>\n",
       "      <th>genero</th>\n",
       "      <th>curso</th>\n",
       "      <th>semestre</th>\n",
       "      <th>nota_final</th>\n",
       "      <th>faltas</th>\n",
       "    </tr>\n",
       "  </thead>\n",
       "  <tbody>\n",
       "    <tr>\n",
       "      <th>0</th>\n",
       "      <td>Fernanda</td>\n",
       "      <td>22</td>\n",
       "      <td>F</td>\n",
       "      <td>Engenharia</td>\n",
       "      <td>7</td>\n",
       "      <td>8.85</td>\n",
       "      <td>21</td>\n",
       "    </tr>\n",
       "    <tr>\n",
       "      <th>1</th>\n",
       "      <td>Eduardo</td>\n",
       "      <td>28</td>\n",
       "      <td>M</td>\n",
       "      <td>ADS</td>\n",
       "      <td>1</td>\n",
       "      <td>6.49</td>\n",
       "      <td>9</td>\n",
       "    </tr>\n",
       "    <tr>\n",
       "      <th>2</th>\n",
       "      <td>Igor</td>\n",
       "      <td>24</td>\n",
       "      <td>M</td>\n",
       "      <td>Arquitetura</td>\n",
       "      <td>3</td>\n",
       "      <td>5.85</td>\n",
       "      <td>8</td>\n",
       "    </tr>\n",
       "    <tr>\n",
       "      <th>3</th>\n",
       "      <td>Igor</td>\n",
       "      <td>29</td>\n",
       "      <td>F</td>\n",
       "      <td>Arquitetura</td>\n",
       "      <td>10</td>\n",
       "      <td>5.65</td>\n",
       "      <td>7</td>\n",
       "    </tr>\n",
       "    <tr>\n",
       "      <th>4</th>\n",
       "      <td>Bruno</td>\n",
       "      <td>28</td>\n",
       "      <td>M</td>\n",
       "      <td>Arquitetura</td>\n",
       "      <td>7</td>\n",
       "      <td>8.64</td>\n",
       "      <td>5</td>\n",
       "    </tr>\n",
       "  </tbody>\n",
       "</table>\n",
       "</div>"
      ],
      "text/plain": [
       "       nome  idade genero        curso  semestre  nota_final  faltas\n",
       "0  Fernanda     22      F   Engenharia         7        8.85      21\n",
       "1   Eduardo     28      M          ADS         1        6.49       9\n",
       "2      Igor     24      M  Arquitetura         3        5.85       8\n",
       "3      Igor     29      F  Arquitetura        10        5.65       7\n",
       "4     Bruno     28      M  Arquitetura         7        8.64       5"
      ]
     },
     "execution_count": 3,
     "metadata": {},
     "output_type": "execute_result"
    }
   ],
   "source": [
    "df.head()"
   ]
  },
  {
   "cell_type": "code",
   "execution_count": 4,
   "id": "b3c0e940",
   "metadata": {},
   "outputs": [
    {
     "data": {
      "text/html": [
       "<div>\n",
       "<style scoped>\n",
       "    .dataframe tbody tr th:only-of-type {\n",
       "        vertical-align: middle;\n",
       "    }\n",
       "\n",
       "    .dataframe tbody tr th {\n",
       "        vertical-align: top;\n",
       "    }\n",
       "\n",
       "    .dataframe thead th {\n",
       "        text-align: right;\n",
       "    }\n",
       "</style>\n",
       "<table border=\"1\" class=\"dataframe\">\n",
       "  <thead>\n",
       "    <tr style=\"text-align: right;\">\n",
       "      <th></th>\n",
       "      <th>nome</th>\n",
       "      <th>idade</th>\n",
       "      <th>genero</th>\n",
       "      <th>curso</th>\n",
       "      <th>semestre</th>\n",
       "      <th>nota_final</th>\n",
       "      <th>faltas</th>\n",
       "    </tr>\n",
       "  </thead>\n",
       "  <tbody>\n",
       "    <tr>\n",
       "      <th>95</th>\n",
       "      <td>Helena</td>\n",
       "      <td>26</td>\n",
       "      <td>M</td>\n",
       "      <td>ADS</td>\n",
       "      <td>2</td>\n",
       "      <td>6.65</td>\n",
       "      <td>21</td>\n",
       "    </tr>\n",
       "    <tr>\n",
       "      <th>96</th>\n",
       "      <td>Carlos</td>\n",
       "      <td>20</td>\n",
       "      <td>F</td>\n",
       "      <td>Engenharia</td>\n",
       "      <td>8</td>\n",
       "      <td>9.33</td>\n",
       "      <td>24</td>\n",
       "    </tr>\n",
       "    <tr>\n",
       "      <th>97</th>\n",
       "      <td>Diana</td>\n",
       "      <td>27</td>\n",
       "      <td>M</td>\n",
       "      <td>Direito</td>\n",
       "      <td>1</td>\n",
       "      <td>9.31</td>\n",
       "      <td>17</td>\n",
       "    </tr>\n",
       "    <tr>\n",
       "      <th>98</th>\n",
       "      <td>Igor</td>\n",
       "      <td>27</td>\n",
       "      <td>F</td>\n",
       "      <td>Medicina</td>\n",
       "      <td>9</td>\n",
       "      <td>8.88</td>\n",
       "      <td>17</td>\n",
       "    </tr>\n",
       "    <tr>\n",
       "      <th>99</th>\n",
       "      <td>Carlos</td>\n",
       "      <td>22</td>\n",
       "      <td>F</td>\n",
       "      <td>Medicina</td>\n",
       "      <td>8</td>\n",
       "      <td>9.75</td>\n",
       "      <td>21</td>\n",
       "    </tr>\n",
       "  </tbody>\n",
       "</table>\n",
       "</div>"
      ],
      "text/plain": [
       "      nome  idade genero       curso  semestre  nota_final  faltas\n",
       "95  Helena     26      M         ADS         2        6.65      21\n",
       "96  Carlos     20      F  Engenharia         8        9.33      24\n",
       "97   Diana     27      M     Direito         1        9.31      17\n",
       "98    Igor     27      F    Medicina         9        8.88      17\n",
       "99  Carlos     22      F    Medicina         8        9.75      21"
      ]
     },
     "execution_count": 4,
     "metadata": {},
     "output_type": "execute_result"
    }
   ],
   "source": [
    "df.tail()"
   ]
  },
  {
   "cell_type": "code",
   "execution_count": 5,
   "id": "86843857",
   "metadata": {},
   "outputs": [
    {
     "data": {
      "text/plain": [
       "(100, 7)"
      ]
     },
     "execution_count": 5,
     "metadata": {},
     "output_type": "execute_result"
    }
   ],
   "source": [
    "df.shape"
   ]
  },
  {
   "cell_type": "code",
   "execution_count": 6,
   "id": "33d1ec7f",
   "metadata": {},
   "outputs": [
    {
     "name": "stdout",
     "output_type": "stream",
     "text": [
      "<class 'pandas.core.frame.DataFrame'>\n",
      "RangeIndex: 100 entries, 0 to 99\n",
      "Data columns (total 7 columns):\n",
      " #   Column      Non-Null Count  Dtype  \n",
      "---  ------      --------------  -----  \n",
      " 0   nome        100 non-null    object \n",
      " 1   idade       100 non-null    int64  \n",
      " 2   genero      100 non-null    object \n",
      " 3   curso       100 non-null    object \n",
      " 4   semestre    100 non-null    int64  \n",
      " 5   nota_final  100 non-null    float64\n",
      " 6   faltas      100 non-null    int64  \n",
      "dtypes: float64(1), int64(3), object(3)\n",
      "memory usage: 5.6+ KB\n"
     ]
    }
   ],
   "source": [
    "df.info()"
   ]
  },
  {
   "cell_type": "code",
   "execution_count": 7,
   "id": "05f4edae",
   "metadata": {},
   "outputs": [
    {
     "data": {
      "text/html": [
       "<div>\n",
       "<style scoped>\n",
       "    .dataframe tbody tr th:only-of-type {\n",
       "        vertical-align: middle;\n",
       "    }\n",
       "\n",
       "    .dataframe tbody tr th {\n",
       "        vertical-align: top;\n",
       "    }\n",
       "\n",
       "    .dataframe thead th {\n",
       "        text-align: right;\n",
       "    }\n",
       "</style>\n",
       "<table border=\"1\" class=\"dataframe\">\n",
       "  <thead>\n",
       "    <tr style=\"text-align: right;\">\n",
       "      <th></th>\n",
       "      <th>idade</th>\n",
       "      <th>semestre</th>\n",
       "      <th>nota_final</th>\n",
       "      <th>faltas</th>\n",
       "    </tr>\n",
       "  </thead>\n",
       "  <tbody>\n",
       "    <tr>\n",
       "      <th>count</th>\n",
       "      <td>100.000000</td>\n",
       "      <td>100.000000</td>\n",
       "      <td>100.000000</td>\n",
       "      <td>100.000000</td>\n",
       "    </tr>\n",
       "    <tr>\n",
       "      <th>mean</th>\n",
       "      <td>26.130000</td>\n",
       "      <td>5.880000</td>\n",
       "      <td>7.546800</td>\n",
       "      <td>15.000000</td>\n",
       "    </tr>\n",
       "    <tr>\n",
       "      <th>std</th>\n",
       "      <td>4.871386</td>\n",
       "      <td>2.985757</td>\n",
       "      <td>1.547776</td>\n",
       "      <td>9.222283</td>\n",
       "    </tr>\n",
       "    <tr>\n",
       "      <th>min</th>\n",
       "      <td>18.000000</td>\n",
       "      <td>1.000000</td>\n",
       "      <td>5.000000</td>\n",
       "      <td>0.000000</td>\n",
       "    </tr>\n",
       "    <tr>\n",
       "      <th>25%</th>\n",
       "      <td>22.000000</td>\n",
       "      <td>3.000000</td>\n",
       "      <td>6.060000</td>\n",
       "      <td>7.000000</td>\n",
       "    </tr>\n",
       "    <tr>\n",
       "      <th>50%</th>\n",
       "      <td>26.000000</td>\n",
       "      <td>6.000000</td>\n",
       "      <td>7.980000</td>\n",
       "      <td>14.000000</td>\n",
       "    </tr>\n",
       "    <tr>\n",
       "      <th>75%</th>\n",
       "      <td>30.000000</td>\n",
       "      <td>8.000000</td>\n",
       "      <td>8.872500</td>\n",
       "      <td>24.000000</td>\n",
       "    </tr>\n",
       "    <tr>\n",
       "      <th>max</th>\n",
       "      <td>35.000000</td>\n",
       "      <td>10.000000</td>\n",
       "      <td>9.980000</td>\n",
       "      <td>30.000000</td>\n",
       "    </tr>\n",
       "  </tbody>\n",
       "</table>\n",
       "</div>"
      ],
      "text/plain": [
       "            idade    semestre  nota_final      faltas\n",
       "count  100.000000  100.000000  100.000000  100.000000\n",
       "mean    26.130000    5.880000    7.546800   15.000000\n",
       "std      4.871386    2.985757    1.547776    9.222283\n",
       "min     18.000000    1.000000    5.000000    0.000000\n",
       "25%     22.000000    3.000000    6.060000    7.000000\n",
       "50%     26.000000    6.000000    7.980000   14.000000\n",
       "75%     30.000000    8.000000    8.872500   24.000000\n",
       "max     35.000000   10.000000    9.980000   30.000000"
      ]
     },
     "execution_count": 7,
     "metadata": {},
     "output_type": "execute_result"
    }
   ],
   "source": [
    "df.describe()"
   ]
  },
  {
   "cell_type": "code",
   "execution_count": 8,
   "id": "e873083d",
   "metadata": {},
   "outputs": [
    {
     "data": {
      "text/html": [
       "<div>\n",
       "<style scoped>\n",
       "    .dataframe tbody tr th:only-of-type {\n",
       "        vertical-align: middle;\n",
       "    }\n",
       "\n",
       "    .dataframe tbody tr th {\n",
       "        vertical-align: top;\n",
       "    }\n",
       "\n",
       "    .dataframe thead th {\n",
       "        text-align: right;\n",
       "    }\n",
       "</style>\n",
       "<table border=\"1\" class=\"dataframe\">\n",
       "  <thead>\n",
       "    <tr style=\"text-align: right;\">\n",
       "      <th></th>\n",
       "      <th>nome</th>\n",
       "      <th>genero</th>\n",
       "      <th>curso</th>\n",
       "    </tr>\n",
       "  </thead>\n",
       "  <tbody>\n",
       "    <tr>\n",
       "      <th>count</th>\n",
       "      <td>100</td>\n",
       "      <td>100</td>\n",
       "      <td>100</td>\n",
       "    </tr>\n",
       "    <tr>\n",
       "      <th>unique</th>\n",
       "      <td>10</td>\n",
       "      <td>2</td>\n",
       "      <td>5</td>\n",
       "    </tr>\n",
       "    <tr>\n",
       "      <th>top</th>\n",
       "      <td>Diana</td>\n",
       "      <td>F</td>\n",
       "      <td>ADS</td>\n",
       "    </tr>\n",
       "    <tr>\n",
       "      <th>freq</th>\n",
       "      <td>16</td>\n",
       "      <td>64</td>\n",
       "      <td>26</td>\n",
       "    </tr>\n",
       "  </tbody>\n",
       "</table>\n",
       "</div>"
      ],
      "text/plain": [
       "         nome genero curso\n",
       "count     100    100   100\n",
       "unique     10      2     5\n",
       "top     Diana      F   ADS\n",
       "freq       16     64    26"
      ]
     },
     "execution_count": 8,
     "metadata": {},
     "output_type": "execute_result"
    }
   ],
   "source": [
    "df.describe(include='object')"
   ]
  },
  {
   "cell_type": "code",
   "execution_count": 9,
   "id": "6d832ca3",
   "metadata": {},
   "outputs": [
    {
     "data": {
      "text/plain": [
       "nome\n",
       "Diana       16\n",
       "Helena      16\n",
       "Igor        14\n",
       "Carlos      10\n",
       "Juliana      9\n",
       "Bruno        9\n",
       "Eduardo      8\n",
       "Ana          7\n",
       "Gustavo      6\n",
       "Fernanda     5\n",
       "Name: count, dtype: int64"
      ]
     },
     "execution_count": 9,
     "metadata": {},
     "output_type": "execute_result"
    }
   ],
   "source": [
    "df['nome'].value_counts()"
   ]
  },
  {
   "cell_type": "code",
   "execution_count": 10,
   "id": "7b0cafe8",
   "metadata": {},
   "outputs": [
    {
     "data": {
      "image/png": "[encoded data removed]",
      "text/plain": [
       "<Figure size 640x480 with 1 Axes>"
      ]
     },
     "metadata": {},
     "output_type": "display_data"
    }
   ],
   "source": [
    "# Count the occurrences of each name\n",
    "name_counts = df['nome'].value_counts()\n",
    "\n",
    "# Plot the bar chart\n",
    "plt.bar(name_counts.index, name_counts.values)\n",
    "\n",
    "# Rotate x-axis labels for better readability\n",
    "plt.xticks(rotation=45)\n",
    "plt.show()"
   ]
  },
  {
   "cell_type": "code",
   "execution_count": 11,
   "id": "59c18193",
   "metadata": {},
   "outputs": [
    {
     "data": {
      "text/plain": [
       "nome\n",
       "Diana       16\n",
       "Helena      16\n",
       "Igor        14\n",
       "Carlos      10\n",
       "Juliana      9\n",
       "Bruno        9\n",
       "Eduardo      8\n",
       "Ana          7\n",
       "Gustavo      6\n",
       "Fernanda     5\n",
       "Name: count, dtype: int64"
      ]
     },
     "metadata": {},
     "output_type": "display_data"
    },
    {
     "data": {
      "image/png": "[encoded data removed]",
      "text/plain": [
       "<Figure size 640x480 with 1 Axes>"
      ]
     },
     "metadata": {},
     "output_type": "display_data"
    }
   ],
   "source": [
    "contagem_genero = df['nome'].value_counts()\n",
    "\n",
    "plt.bar(contagem_genero.index, contagem_genero.values)\n",
    "\n",
    "display(contagem_genero)\n",
    "\n",
    "plt.title('Contagem de nomes')\n",
    "\n",
    "plt.show()"
   ]
  },
  {
   "cell_type": "code",
   "execution_count": 12,
   "id": "29c93671",
   "metadata": {},
   "outputs": [
    {
     "data": {
      "text/plain": [
       "0      Engenharia\n",
       "1             ADS\n",
       "2     Arquitetura\n",
       "3     Arquitetura\n",
       "4     Arquitetura\n",
       "         ...     \n",
       "95            ADS\n",
       "96     Engenharia\n",
       "97        Direito\n",
       "98       Medicina\n",
       "99       Medicina\n",
       "Name: curso, Length: 100, dtype: object"
      ]
     },
     "execution_count": 12,
     "metadata": {},
     "output_type": "execute_result"
    }
   ],
   "source": [
    "df['curso']"
   ]
  },
  {
   "cell_type": "code",
   "execution_count": 13,
   "id": "f22d8a51",
   "metadata": {},
   "outputs": [
    {
     "data": {
      "text/plain": [
       "<BarContainer object of 5 artists>"
      ]
     },
     "execution_count": 13,
     "metadata": {},
     "output_type": "execute_result"
    },
    {
     "data": {
      "image/png": "[encoded data removed]",
      "text/plain": [
       "<Figure size 640x480 with 1 Axes>"
      ]
     },
     "metadata": {},
     "output_type": "display_data"
    }
   ],
   "source": [
    "curso_quantidade = df['curso'].value_counts()\n",
    "\n",
    "plt.bar(curso_quantidade.index, curso_quantidade.values)"
   ]
  },
  {
   "cell_type": "code",
   "execution_count": 14,
   "id": "104f9caf",
   "metadata": {},
   "outputs": [
    {
     "data": {
      "text/plain": [
       "np.float64(5.88)"
      ]
     },
     "execution_count": 14,
     "metadata": {},
     "output_type": "execute_result"
    }
   ],
   "source": [
    "df['semestre'].mean()\n",
    "\n"
   ]
  },
  {
   "cell_type": "markdown",
   "id": "6c39e456",
   "metadata": {},
   "source": [
    "# nota media por curso"
   ]
  },
  {
   "cell_type": "code",
   "execution_count": 15,
   "id": "37872d90",
   "metadata": {},
   "outputs": [
    {
     "data": {
      "image/png": "[encoded data removed]",
      "text/plain": [
       "<Figure size 640x480 with 1 Axes>"
      ]
     },
     "metadata": {},
     "output_type": "display_data"
    }
   ],
   "source": [
    "import matplotlib.pyplot as plt\n",
    "\n",
    "cursos = {\n",
    "    \"ADS\": [8, 9, 7, 6, 8],\n",
    "    \"Engenharia\": [9, 8, 7, 9, 8],\n",
    "    \"Arquitetura\": [7, 6, 8, 7, 9],\n",
    "    \"Direito\": [8, 9, 7, 6, 8],\n",
    "    \"Medicina\": [9, 8, 7, 9, 8]\n",
    "}\n",
    "\n",
    "notas_medias = {}\n",
    "for curso, notas in cursos.items():\n",
    "    notas_medias[curso] = sum(notas) / len(notas)\n",
    "\n",
    "\n",
    "\n",
    "plt.bar(notas_medias.keys(), notas_medias.values())\n",
    "plt.xlabel(\"Curso\")\n",
    "plt.ylabel(\"Nota média\")\n",
    "plt.title(\"Nota média por curso\")\n",
    "plt.xticks(rotation=45)\n",
    "plt.show()\n",
    "\n",
    "\n",
    "\n",
    "\n",
    "    "
   ]
  },
  {
   "cell_type": "markdown",
   "id": "df274265",
   "metadata": {},
   "source": [
    "## Quantide de alunos homens e mulheres por curso"
   ]
  },
  {
   "cell_type": "code",
   "execution_count": 16,
   "id": "5539d6bc",
   "metadata": {},
   "outputs": [],
   "source": [
    "import pandas as pd\n",
    "import matplotlib.pyplot as plt\n",
    "\t\n"
   ]
  },
  {
   "cell_type": "code",
   "execution_count": 13,
   "id": "d095f457",
   "metadata": {},
   "outputs": [
    {
     "data": {
      "image/png": "[encoded data removed]",
      "text/plain": [
       "<Figure size 1000x600 with 1 Axes>"
      ]
     },
     "metadata": {},
     "output_type": "display_data"
    }
   ],
   "source": [
    "df = pd.DataFrame({\n",
    "    'curso': ['ADS', 'ADS', 'Engenharia', 'Engenharia', 'Arquitetura', 'Arquitetura', 'Direito', 'Direito', 'Medicina', 'Medicina'],\n",
    "    'genero': ['Masculino', 'Feminino', 'Masculino', 'Feminino', 'Masculino', 'Feminino', 'Masculino', 'Feminino', 'Masculino', 'Feminino'],\n",
    "    'nota_final': [8, 9, 7, 6, 8, 9, 7, 6, 8, 9]\n",
    "})\n",
    "\n",
    "if 'nota_final' not in df.columns:\n",
    "    raise ValueError(\"A coluna 'nota_final' não está presente no DataFrame.\")\n",
    "\n",
    "nota_media_por_curso_genero = df.groupby(['curso', 'genero'])['nota_final'].mean().unstack()\n",
    "\n",
    "nota_media_por_curso_genero.plot(kind='bar', figsize=(10, 6), color=['blue', 'green'])\n",
    "plt.title('Média de notas por curso e gênero')\n",
    "plt.xlabel('Curso')\n",
    "plt.ylabel('Nota média')\n",
    "plt.show()\n"
   ]
  },
  {
   "cell_type": "markdown",
   "id": "2f3fa6eb",
   "metadata": {},
   "source": [
    "# Nota media de homens e mulheres "
   ]
  },
  {
   "cell_type": "code",
   "execution_count": 17,
   "id": "7a67e795",
   "metadata": {},
   "outputs": [
    {
     "data": {
      "image/png": "[encoded data removed]",
      "text/plain": [
       "<Figure size 800x600 with 1 Axes>"
      ]
     },
     "metadata": {},
     "output_type": "display_data"
    }
   ],
   "source": [
    "df = pd.DataFrame({\n",
    "    'Sexo': ['Homem', 'Mulher', 'Homem', 'Mulher', 'Homem', 'Mulher', 'Homem', 'Mulher', 'Homem', 'Mulher'],\n",
    "    'Nota': [8, 9, 7, 8, 9, 7, 8, 9, 7, 8]\n",
    "})\n",
    "\n",
    "nota_media = df.groupby('Sexo')['Nota'].mean()\n",
    "\n",
    "plt.figure(figsize=(8, 6))\n",
    "nota_media.plot(kind='pie', autopct='%1.1f%%', colors=['blue', 'pink'])\n",
    "plt.title('Distribuição das Notas Médias por Sexo')\n",
    "plt.show()\n"
   ]
  },
  {
   "cell_type": "markdown",
   "id": "8abe46df",
   "metadata": {},
   "source": [
    "#### media de semestre por curso"
   ]
  },
  {
   "cell_type": "code",
   "execution_count": 21,
   "id": "abb1660a",
   "metadata": {},
   "outputs": [],
   "source": [
    "df = pd.DataFrame({\n",
    "    'Curso': ['ads', 'arquitetura', 'direito', 'engenharia', 'medicina'],\n",
    "    'Nota': [8, 7, 9, 6, 8]\n",
    "})\n",
    "\n",
    "media_por_curso = df.groupby('Curso')['Nota'].mean().reset_index()\n",
    "\n"
   ]
  },
  {
   "cell_type": "markdown",
   "id": "b644aa37",
   "metadata": {},
   "source": [
    "###### media de idade por semestre"
   ]
  },
  {
   "cell_type": "code",
   "execution_count": 23,
   "id": "4128fd58",
   "metadata": {},
   "outputs": [
    {
     "name": "stdout",
     "output_type": "stream",
     "text": [
      "         Curso  Média\n",
      "0          ads    8.0\n",
      "1  arquitetura    7.0\n",
      "2      direito    9.0\n",
      "3   engenharia    6.0\n",
      "4     medicina    8.0\n"
     ]
    },
    {
     "data": {
      "image/png": "[encoded data removed]",
      "text/plain": [
       "<Figure size 1000x600 with 1 Axes>"
      ]
     },
     "metadata": {},
     "output_type": "display_data"
    }
   ],
   "source": [
    "media_por_curso.columns = ['Curso', 'Média']\n",
    "\n",
    "print(media_por_curso)\n",
    "\n",
    "plt.figure(figsize=(10, 6))\n",
    "plt.bar(media_por_curso['Curso'], media_por_curso['Média'])\n",
    "plt.title('Média do Semestre por Curso')\n",
    "plt.xlabel('Curso')\n",
    "plt.ylabel('Média')\n",
    "plt.show()\n",
    "\n"
   ]
  }
 ],
 "metadata": {
  "kernelspec": {
   "display_name": ".venv",
   "language": "python",
   "name": "python3"
  },
  "language_info": {
   "codemirror_mode": {
    "name": "ipython",
    "version": 3
   },
   "file_extension": ".py",
   "mimetype": "text/x-python",
   "name": "python",
   "nbconvert_exporter": "python",
   "pygments_lexer": "ipython3",
   "version": "3.11.9"
  }
 },
 "nbformat": 4,
 "nbformat_minor": 5
}
