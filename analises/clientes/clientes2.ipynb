{
 "cells": [
  {
   "cell_type": "markdown",
   "id": "33f64272",
   "metadata": {},
   "source": [
    "# Analise de Compras"
   ]
  },
  {
   "cell_type": "code",
   "execution_count": 25,
   "id": "d4cac55a",
   "metadata": {},
   "outputs": [],
   "source": [
    "import pandas as pd\n",
    "import matplotlib.pyplot as plt\n",
    "\n",
    "df_vendas1 = pd.read_csv('./dataset_clientes_completo.csv')\n",
    "df_vendas2 = pd.read_csv('./dataset_clientes_completo_2.csv')\n"
   ]
  },
  {
   "cell_type": "code",
   "execution_count": 26,
   "id": "54c63d61",
   "metadata": {},
   "outputs": [
    {
     "data": {
      "text/html": [
       "<div>\n",
       "<style scoped>\n",
       "    .dataframe tbody tr th:only-of-type {\n",
       "        vertical-align: middle;\n",
       "    }\n",
       "\n",
       "    .dataframe tbody tr th {\n",
       "        vertical-align: top;\n",
       "    }\n",
       "\n",
       "    .dataframe thead th {\n",
       "        text-align: right;\n",
       "    }\n",
       "</style>\n",
       "<table border=\"1\" class=\"dataframe\">\n",
       "  <thead>\n",
       "    <tr style=\"text-align: right;\">\n",
       "      <th></th>\n",
       "      <th>nome</th>\n",
       "      <th>idade</th>\n",
       "      <th>cidade</th>\n",
       "      <th>data_nasc</th>\n",
       "      <th>renda_mensal</th>\n",
       "      <th>comprou</th>\n",
       "    </tr>\n",
       "  </thead>\n",
       "  <tbody>\n",
       "    <tr>\n",
       "      <th>0</th>\n",
       "      <td>Bruno</td>\n",
       "      <td>NaN</td>\n",
       "      <td>RJ</td>\n",
       "      <td>15/09/1984</td>\n",
       "      <td>NaN</td>\n",
       "      <td>1</td>\n",
       "    </tr>\n",
       "    <tr>\n",
       "      <th>1</th>\n",
       "      <td>NaN</td>\n",
       "      <td>59.0</td>\n",
       "      <td>SC</td>\n",
       "      <td>01/12/1978</td>\n",
       "      <td>5587.73</td>\n",
       "      <td>0</td>\n",
       "    </tr>\n",
       "    <tr>\n",
       "      <th>2</th>\n",
       "      <td>Mariane</td>\n",
       "      <td>35.0</td>\n",
       "      <td>MG</td>\n",
       "      <td>24/11/1965</td>\n",
       "      <td>4574.79</td>\n",
       "      <td>0</td>\n",
       "    </tr>\n",
       "    <tr>\n",
       "      <th>3</th>\n",
       "      <td>Murilo</td>\n",
       "      <td>70.0</td>\n",
       "      <td>MG</td>\n",
       "      <td>28/01/1989</td>\n",
       "      <td>9305.10</td>\n",
       "      <td>0</td>\n",
       "    </tr>\n",
       "    <tr>\n",
       "      <th>4</th>\n",
       "      <td>Emanuelly</td>\n",
       "      <td>NaN</td>\n",
       "      <td>SP</td>\n",
       "      <td>16/08/1984</td>\n",
       "      <td>5721.99</td>\n",
       "      <td>0</td>\n",
       "    </tr>\n",
       "  </tbody>\n",
       "</table>\n",
       "</div>"
      ],
      "text/plain": [
       "        nome  idade cidade   data_nasc  renda_mensal  comprou\n",
       "0      Bruno    NaN     RJ  15/09/1984           NaN        1\n",
       "1        NaN   59.0     SC  01/12/1978       5587.73        0\n",
       "2    Mariane   35.0     MG  24/11/1965       4574.79        0\n",
       "3     Murilo   70.0     MG  28/01/1989       9305.10        0\n",
       "4  Emanuelly    NaN     SP  16/08/1984       5721.99        0"
      ]
     },
     "execution_count": 26,
     "metadata": {},
     "output_type": "execute_result"
    }
   ],
   "source": [
    "df_vendas1.head()"
   ]
  },
  {
   "cell_type": "code",
   "execution_count": 27,
   "id": "74b4ff26",
   "metadata": {},
   "outputs": [
    {
     "data": {
      "text/html": [
       "<div>\n",
       "<style scoped>\n",
       "    .dataframe tbody tr th:only-of-type {\n",
       "        vertical-align: middle;\n",
       "    }\n",
       "\n",
       "    .dataframe tbody tr th {\n",
       "        vertical-align: top;\n",
       "    }\n",
       "\n",
       "    .dataframe thead th {\n",
       "        text-align: right;\n",
       "    }\n",
       "</style>\n",
       "<table border=\"1\" class=\"dataframe\">\n",
       "  <thead>\n",
       "    <tr style=\"text-align: right;\">\n",
       "      <th></th>\n",
       "      <th>nome</th>\n",
       "      <th>idade</th>\n",
       "      <th>cidade</th>\n",
       "      <th>data_nasc</th>\n",
       "      <th>renda_mensal</th>\n",
       "      <th>comprou</th>\n",
       "    </tr>\n",
       "  </thead>\n",
       "  <tbody>\n",
       "    <tr>\n",
       "      <th>995</th>\n",
       "      <td>Pedro Miguel</td>\n",
       "      <td>NaN</td>\n",
       "      <td>MG</td>\n",
       "      <td>20/03/1990</td>\n",
       "      <td>12801.55</td>\n",
       "      <td>1</td>\n",
       "    </tr>\n",
       "    <tr>\n",
       "      <th>996</th>\n",
       "      <td>Luiz Gustavo</td>\n",
       "      <td>49.0</td>\n",
       "      <td>NaN</td>\n",
       "      <td>11/08/2006</td>\n",
       "      <td>7965.06</td>\n",
       "      <td>0</td>\n",
       "    </tr>\n",
       "    <tr>\n",
       "      <th>997</th>\n",
       "      <td>Maria Cecília</td>\n",
       "      <td>44.0</td>\n",
       "      <td>SP</td>\n",
       "      <td>18/07/1965</td>\n",
       "      <td>8699.10</td>\n",
       "      <td>1</td>\n",
       "    </tr>\n",
       "    <tr>\n",
       "      <th>998</th>\n",
       "      <td>Enzo Gabriel</td>\n",
       "      <td>18.0</td>\n",
       "      <td>PR</td>\n",
       "      <td>24/09/1967</td>\n",
       "      <td>NaN</td>\n",
       "      <td>0</td>\n",
       "    </tr>\n",
       "    <tr>\n",
       "      <th>999</th>\n",
       "      <td>Davi Lucca</td>\n",
       "      <td>57.0</td>\n",
       "      <td>NaN</td>\n",
       "      <td>16/09/1995</td>\n",
       "      <td>7370.99</td>\n",
       "      <td>0</td>\n",
       "    </tr>\n",
       "  </tbody>\n",
       "</table>\n",
       "</div>"
      ],
      "text/plain": [
       "              nome  idade cidade   data_nasc  renda_mensal  comprou\n",
       "995   Pedro Miguel    NaN     MG  20/03/1990      12801.55        1\n",
       "996   Luiz Gustavo   49.0    NaN  11/08/2006       7965.06        0\n",
       "997  Maria Cecília   44.0     SP  18/07/1965       8699.10        1\n",
       "998   Enzo Gabriel   18.0     PR  24/09/1967           NaN        0\n",
       "999     Davi Lucca   57.0    NaN  16/09/1995       7370.99        0"
      ]
     },
     "execution_count": 27,
     "metadata": {},
     "output_type": "execute_result"
    }
   ],
   "source": [
    "df_vendas1.tail()"
   ]
  },
  {
   "cell_type": "code",
   "execution_count": 28,
   "id": "8e568a39",
   "metadata": {},
   "outputs": [
    {
     "name": "stdout",
     "output_type": "stream",
     "text": [
      "<class 'pandas.core.frame.DataFrame'>\n",
      "RangeIndex: 1000 entries, 0 to 999\n",
      "Data columns (total 6 columns):\n",
      " #   Column        Non-Null Count  Dtype  \n",
      "---  ------        --------------  -----  \n",
      " 0   nome          970 non-null    object \n",
      " 1   idade         904 non-null    float64\n",
      " 2   cidade        954 non-null    object \n",
      " 3   data_nasc     984 non-null    object \n",
      " 4   renda_mensal  765 non-null    float64\n",
      " 5   comprou       1000 non-null   int64  \n",
      "dtypes: float64(2), int64(1), object(3)\n",
      "memory usage: 47.0+ KB\n"
     ]
    }
   ],
   "source": [
    "df_vendas1.info()"
   ]
  },
  {
   "cell_type": "code",
   "execution_count": 29,
   "id": "4d6dc0e8",
   "metadata": {},
   "outputs": [
    {
     "data": {
      "text/html": [
       "<div>\n",
       "<style scoped>\n",
       "    .dataframe tbody tr th:only-of-type {\n",
       "        vertical-align: middle;\n",
       "    }\n",
       "\n",
       "    .dataframe tbody tr th {\n",
       "        vertical-align: top;\n",
       "    }\n",
       "\n",
       "    .dataframe thead th {\n",
       "        text-align: right;\n",
       "    }\n",
       "</style>\n",
       "<table border=\"1\" class=\"dataframe\">\n",
       "  <thead>\n",
       "    <tr style=\"text-align: right;\">\n",
       "      <th></th>\n",
       "      <th>nome</th>\n",
       "      <th>idade</th>\n",
       "      <th>cidade</th>\n",
       "      <th>data_nasc</th>\n",
       "      <th>renda_mensal</th>\n",
       "      <th>comprou</th>\n",
       "    </tr>\n",
       "  </thead>\n",
       "  <tbody>\n",
       "    <tr>\n",
       "      <th>0</th>\n",
       "      <td>Bárbara</td>\n",
       "      <td>36.0</td>\n",
       "      <td>RJ</td>\n",
       "      <td>28/04/1984</td>\n",
       "      <td>4865.29</td>\n",
       "      <td>1</td>\n",
       "    </tr>\n",
       "    <tr>\n",
       "      <th>1</th>\n",
       "      <td>Luiz Fernando</td>\n",
       "      <td>65.0</td>\n",
       "      <td>RJ</td>\n",
       "      <td>01/11/1966</td>\n",
       "      <td>1717.13</td>\n",
       "      <td>1</td>\n",
       "    </tr>\n",
       "    <tr>\n",
       "      <th>2</th>\n",
       "      <td>Noah</td>\n",
       "      <td>57.0</td>\n",
       "      <td>RJ</td>\n",
       "      <td>09/03/1985</td>\n",
       "      <td>14725.78</td>\n",
       "      <td>1</td>\n",
       "    </tr>\n",
       "    <tr>\n",
       "      <th>3</th>\n",
       "      <td>Diego</td>\n",
       "      <td>58.0</td>\n",
       "      <td>SP</td>\n",
       "      <td>01/10/1973</td>\n",
       "      <td>7915.17</td>\n",
       "      <td>1</td>\n",
       "    </tr>\n",
       "    <tr>\n",
       "      <th>4</th>\n",
       "      <td>João Lucas</td>\n",
       "      <td>27.0</td>\n",
       "      <td>SP</td>\n",
       "      <td>08/07/2003</td>\n",
       "      <td>14084.05</td>\n",
       "      <td>0</td>\n",
       "    </tr>\n",
       "  </tbody>\n",
       "</table>\n",
       "</div>"
      ],
      "text/plain": [
       "            nome  idade cidade   data_nasc  renda_mensal  comprou\n",
       "0        Bárbara   36.0     RJ  28/04/1984       4865.29        1\n",
       "1  Luiz Fernando   65.0     RJ  01/11/1966       1717.13        1\n",
       "2           Noah   57.0     RJ  09/03/1985      14725.78        1\n",
       "3          Diego   58.0     SP  01/10/1973       7915.17        1\n",
       "4     João Lucas   27.0     SP  08/07/2003      14084.05        0"
      ]
     },
     "execution_count": 29,
     "metadata": {},
     "output_type": "execute_result"
    }
   ],
   "source": [
    "df_vendas2.head()"
   ]
  },
  {
   "cell_type": "code",
   "execution_count": 30,
   "id": "d5e3c73c",
   "metadata": {},
   "outputs": [
    {
     "data": {
      "text/html": [
       "<div>\n",
       "<style scoped>\n",
       "    .dataframe tbody tr th:only-of-type {\n",
       "        vertical-align: middle;\n",
       "    }\n",
       "\n",
       "    .dataframe tbody tr th {\n",
       "        vertical-align: top;\n",
       "    }\n",
       "\n",
       "    .dataframe thead th {\n",
       "        text-align: right;\n",
       "    }\n",
       "</style>\n",
       "<table border=\"1\" class=\"dataframe\">\n",
       "  <thead>\n",
       "    <tr style=\"text-align: right;\">\n",
       "      <th></th>\n",
       "      <th>nome</th>\n",
       "      <th>idade</th>\n",
       "      <th>cidade</th>\n",
       "      <th>data_nasc</th>\n",
       "      <th>renda_mensal</th>\n",
       "      <th>comprou</th>\n",
       "    </tr>\n",
       "  </thead>\n",
       "  <tbody>\n",
       "    <tr>\n",
       "      <th>995</th>\n",
       "      <td>Maria Cecília</td>\n",
       "      <td>27.0</td>\n",
       "      <td>SP</td>\n",
       "      <td>19/06/1983</td>\n",
       "      <td>11010.54</td>\n",
       "      <td>1</td>\n",
       "    </tr>\n",
       "    <tr>\n",
       "      <th>996</th>\n",
       "      <td>Fernanda</td>\n",
       "      <td>67.0</td>\n",
       "      <td>BA</td>\n",
       "      <td>02/09/1998</td>\n",
       "      <td>5494.28</td>\n",
       "      <td>1</td>\n",
       "    </tr>\n",
       "    <tr>\n",
       "      <th>997</th>\n",
       "      <td>Fernanda</td>\n",
       "      <td>35.0</td>\n",
       "      <td>NaN</td>\n",
       "      <td>31/03/1962</td>\n",
       "      <td>2253.63</td>\n",
       "      <td>0</td>\n",
       "    </tr>\n",
       "    <tr>\n",
       "      <th>998</th>\n",
       "      <td>Helena</td>\n",
       "      <td>28.0</td>\n",
       "      <td>RS</td>\n",
       "      <td>29/05/1994</td>\n",
       "      <td>7870.88</td>\n",
       "      <td>1</td>\n",
       "    </tr>\n",
       "    <tr>\n",
       "      <th>999</th>\n",
       "      <td>Maria Eduarda</td>\n",
       "      <td>18.0</td>\n",
       "      <td>BA</td>\n",
       "      <td>12/07/1967</td>\n",
       "      <td>10881.54</td>\n",
       "      <td>1</td>\n",
       "    </tr>\n",
       "  </tbody>\n",
       "</table>\n",
       "</div>"
      ],
      "text/plain": [
       "              nome  idade cidade   data_nasc  renda_mensal  comprou\n",
       "995  Maria Cecília   27.0     SP  19/06/1983      11010.54        1\n",
       "996       Fernanda   67.0     BA  02/09/1998       5494.28        1\n",
       "997       Fernanda   35.0    NaN  31/03/1962       2253.63        0\n",
       "998         Helena   28.0     RS  29/05/1994       7870.88        1\n",
       "999  Maria Eduarda   18.0     BA  12/07/1967      10881.54        1"
      ]
     },
     "execution_count": 30,
     "metadata": {},
     "output_type": "execute_result"
    }
   ],
   "source": [
    "df_vendas2.tail()"
   ]
  },
  {
   "cell_type": "code",
   "execution_count": 31,
   "id": "a2fa4651",
   "metadata": {},
   "outputs": [
    {
     "name": "stdout",
     "output_type": "stream",
     "text": [
      "<class 'pandas.core.frame.DataFrame'>\n",
      "RangeIndex: 1000 entries, 0 to 999\n",
      "Data columns (total 6 columns):\n",
      " #   Column        Non-Null Count  Dtype  \n",
      "---  ------        --------------  -----  \n",
      " 0   nome          960 non-null    object \n",
      " 1   idade         951 non-null    float64\n",
      " 2   cidade        900 non-null    object \n",
      " 3   data_nasc     992 non-null    object \n",
      " 4   renda_mensal  790 non-null    float64\n",
      " 5   comprou       1000 non-null   int64  \n",
      "dtypes: float64(2), int64(1), object(3)\n",
      "memory usage: 47.0+ KB\n"
     ]
    }
   ],
   "source": [
    "df_vendas2.info()"
   ]
  },
  {
   "cell_type": "code",
   "execution_count": 32,
   "id": "e782f3a2",
   "metadata": {},
   "outputs": [
    {
     "data": {
      "text/html": [
       "<div>\n",
       "<style scoped>\n",
       "    .dataframe tbody tr th:only-of-type {\n",
       "        vertical-align: middle;\n",
       "    }\n",
       "\n",
       "    .dataframe tbody tr th {\n",
       "        vertical-align: top;\n",
       "    }\n",
       "\n",
       "    .dataframe thead th {\n",
       "        text-align: right;\n",
       "    }\n",
       "</style>\n",
       "<table border=\"1\" class=\"dataframe\">\n",
       "  <thead>\n",
       "    <tr style=\"text-align: right;\">\n",
       "      <th></th>\n",
       "      <th>nome</th>\n",
       "      <th>idade</th>\n",
       "      <th>cidade</th>\n",
       "      <th>data_nasc</th>\n",
       "      <th>renda_mensal</th>\n",
       "      <th>comprou</th>\n",
       "    </tr>\n",
       "  </thead>\n",
       "  <tbody>\n",
       "    <tr>\n",
       "      <th>0</th>\n",
       "      <td>Bruno</td>\n",
       "      <td>NaN</td>\n",
       "      <td>RJ</td>\n",
       "      <td>15/09/1984</td>\n",
       "      <td>NaN</td>\n",
       "      <td>1</td>\n",
       "    </tr>\n",
       "    <tr>\n",
       "      <th>1</th>\n",
       "      <td>NaN</td>\n",
       "      <td>59.0</td>\n",
       "      <td>SC</td>\n",
       "      <td>01/12/1978</td>\n",
       "      <td>5587.73</td>\n",
       "      <td>0</td>\n",
       "    </tr>\n",
       "    <tr>\n",
       "      <th>2</th>\n",
       "      <td>Mariane</td>\n",
       "      <td>35.0</td>\n",
       "      <td>MG</td>\n",
       "      <td>24/11/1965</td>\n",
       "      <td>4574.79</td>\n",
       "      <td>0</td>\n",
       "    </tr>\n",
       "    <tr>\n",
       "      <th>3</th>\n",
       "      <td>Murilo</td>\n",
       "      <td>70.0</td>\n",
       "      <td>MG</td>\n",
       "      <td>28/01/1989</td>\n",
       "      <td>9305.10</td>\n",
       "      <td>0</td>\n",
       "    </tr>\n",
       "    <tr>\n",
       "      <th>4</th>\n",
       "      <td>Emanuelly</td>\n",
       "      <td>NaN</td>\n",
       "      <td>SP</td>\n",
       "      <td>16/08/1984</td>\n",
       "      <td>5721.99</td>\n",
       "      <td>0</td>\n",
       "    </tr>\n",
       "    <tr>\n",
       "      <th>...</th>\n",
       "      <td>...</td>\n",
       "      <td>...</td>\n",
       "      <td>...</td>\n",
       "      <td>...</td>\n",
       "      <td>...</td>\n",
       "      <td>...</td>\n",
       "    </tr>\n",
       "    <tr>\n",
       "      <th>1995</th>\n",
       "      <td>Maria Cecília</td>\n",
       "      <td>27.0</td>\n",
       "      <td>SP</td>\n",
       "      <td>19/06/1983</td>\n",
       "      <td>11010.54</td>\n",
       "      <td>1</td>\n",
       "    </tr>\n",
       "    <tr>\n",
       "      <th>1996</th>\n",
       "      <td>Fernanda</td>\n",
       "      <td>67.0</td>\n",
       "      <td>BA</td>\n",
       "      <td>02/09/1998</td>\n",
       "      <td>5494.28</td>\n",
       "      <td>1</td>\n",
       "    </tr>\n",
       "    <tr>\n",
       "      <th>1997</th>\n",
       "      <td>Fernanda</td>\n",
       "      <td>35.0</td>\n",
       "      <td>NaN</td>\n",
       "      <td>31/03/1962</td>\n",
       "      <td>2253.63</td>\n",
       "      <td>0</td>\n",
       "    </tr>\n",
       "    <tr>\n",
       "      <th>1998</th>\n",
       "      <td>Helena</td>\n",
       "      <td>28.0</td>\n",
       "      <td>RS</td>\n",
       "      <td>29/05/1994</td>\n",
       "      <td>7870.88</td>\n",
       "      <td>1</td>\n",
       "    </tr>\n",
       "    <tr>\n",
       "      <th>1999</th>\n",
       "      <td>Maria Eduarda</td>\n",
       "      <td>18.0</td>\n",
       "      <td>BA</td>\n",
       "      <td>12/07/1967</td>\n",
       "      <td>10881.54</td>\n",
       "      <td>1</td>\n",
       "    </tr>\n",
       "  </tbody>\n",
       "</table>\n",
       "<p>2000 rows × 6 columns</p>\n",
       "</div>"
      ],
      "text/plain": [
       "               nome  idade cidade   data_nasc  renda_mensal  comprou\n",
       "0             Bruno    NaN     RJ  15/09/1984           NaN        1\n",
       "1               NaN   59.0     SC  01/12/1978       5587.73        0\n",
       "2           Mariane   35.0     MG  24/11/1965       4574.79        0\n",
       "3            Murilo   70.0     MG  28/01/1989       9305.10        0\n",
       "4         Emanuelly    NaN     SP  16/08/1984       5721.99        0\n",
       "...             ...    ...    ...         ...           ...      ...\n",
       "1995  Maria Cecília   27.0     SP  19/06/1983      11010.54        1\n",
       "1996       Fernanda   67.0     BA  02/09/1998       5494.28        1\n",
       "1997       Fernanda   35.0    NaN  31/03/1962       2253.63        0\n",
       "1998         Helena   28.0     RS  29/05/1994       7870.88        1\n",
       "1999  Maria Eduarda   18.0     BA  12/07/1967      10881.54        1\n",
       "\n",
       "[2000 rows x 6 columns]"
      ]
     },
     "execution_count": 32,
     "metadata": {},
     "output_type": "execute_result"
    }
   ],
   "source": [
    "df = pd.concat([df_vendas1, df_vendas2], ignore_index=True)\n",
    "df"
   ]
  },
  {
   "cell_type": "markdown",
   "id": "6aba35f5",
   "metadata": {},
   "source": [
    "# Tratamento de dados"
   ]
  },
  {
   "cell_type": "code",
   "execution_count": 33,
   "id": "a4b87e6e",
   "metadata": {},
   "outputs": [
    {
     "data": {
      "image/png": "[encoded data removed]",
      "text/plain": [
       "<Figure size 640x480 with 1 Axes>"
      ]
     },
     "metadata": {},
     "output_type": "display_data"
    }
   ],
   "source": [
    "cidade = df_vendas1['cidade'].value_counts()\n",
    "\n",
    "plt.bar(cidade.index, cidade.values, label='Pessoas')\n",
    "plt.title('Cidade')\n",
    "plt.legend()\n",
    "plt.show()"
   ]
  },
  {
   "cell_type": "code",
   "execution_count": 34,
   "id": "3801e89e",
   "metadata": {},
   "outputs": [
    {
     "name": "stdout",
     "output_type": "stream",
     "text": [
      "Menor renda: 1200.49\n",
      "Maior renda: 14999.37\n",
      "Renda média: 8048.36\n"
     ]
    }
   ],
   "source": [
    "print(f'Menor renda: {df_vendas1[\"renda_mensal\"].min()}')\n",
    "print(f'Maior renda: {df_vendas1[\"renda_mensal\"].max()}')\n",
    "print(f'Renda média: {round(df_vendas1[\"renda_mensal\"].mean(), 2)}')"
   ]
  },
  {
   "cell_type": "code",
   "execution_count": 35,
   "id": "ed839ff1",
   "metadata": {},
   "outputs": [
    {
     "name": "stdout",
     "output_type": "stream",
     "text": [
      "Mediana renda: 8127.51\n"
     ]
    }
   ],
   "source": [
    "print(f\"Mediana renda: {df_vendas1['renda_mensal'].median()}\")"
   ]
  },
  {
   "cell_type": "code",
   "execution_count": 36,
   "id": "5f05d896",
   "metadata": {},
   "outputs": [
    {
     "data": {
      "text/plain": [
       "<Axes: xlabel='cidade'>"
      ]
     },
     "execution_count": 36,
     "metadata": {},
     "output_type": "execute_result"
    },
    {
     "data": {
      "image/png": "[encoded data removed]",
      "text/plain": [
       "<Figure size 640x480 with 1 Axes>"
      ]
     },
     "metadata": {},
     "output_type": "display_data"
    }
   ],
   "source": [
    "df.groupby('cidade')['renda_mensal'].mean().plot(kind='bar')"
   ]
  },
  {
   "cell_type": "code",
   "execution_count": 37,
   "id": "483fba83",
   "metadata": {},
   "outputs": [
    {
     "data": {
      "image/png": "[encoded data removed]",
      "text/plain": [
       "<Figure size 640x480 with 1 Axes>"
      ]
     },
     "metadata": {},
     "output_type": "display_data"
    }
   ],
   "source": [
    "plt.hist(df['renda_mensal'])\n",
    "plt.show()"
   ]
  },
  {
   "cell_type": "code",
   "execution_count": 38,
   "id": "816720ed",
   "metadata": {},
   "outputs": [
    {
     "data": {
      "text/plain": [
       "<Axes: ylabel='Frequency'>"
      ]
     },
     "execution_count": 38,
     "metadata": {},
     "output_type": "execute_result"
    },
    {
     "data": {
      "image/png": "[encoded data removed]",
      "text/plain": [
       "<Figure size 640x480 with 1 Axes>"
      ]
     },
     "metadata": {},
     "output_type": "display_data"
    }
   ],
   "source": [
    "df.groupby('idade')['renda_mensal'].mean().plot(kind='hist')"
   ]
  },
  {
   "cell_type": "code",
   "execution_count": 39,
   "id": "c2a859ae",
   "metadata": {},
   "outputs": [
    {
     "data": {
      "image/png": "[encoded data removed]",
      "text/plain": [
       "<Figure size 640x480 with 1 Axes>"
      ]
     },
     "metadata": {},
     "output_type": "display_data"
    }
   ],
   "source": [
    "comprou = df['comprou'].value_counts()\n",
    "\n",
    "plt.bar(comprou.index,comprou.values, label='compradores')\n",
    "plt.title('compradores')\n",
    "plt.ylabel('Pessoas')\n",
    "plt.xticks([0,1])\n",
    "plt.legend()\n",
    "plt.show()"
   ]
  },
  {
   "cell_type": "code",
   "execution_count": 40,
   "id": "bd6fe600",
   "metadata": {},
   "outputs": [
    {
     "data": {
      "text/html": [
       "<div>\n",
       "<style scoped>\n",
       "    .dataframe tbody tr th:only-of-type {\n",
       "        vertical-align: middle;\n",
       "    }\n",
       "\n",
       "    .dataframe tbody tr th {\n",
       "        vertical-align: top;\n",
       "    }\n",
       "\n",
       "    .dataframe thead th {\n",
       "        text-align: right;\n",
       "    }\n",
       "</style>\n",
       "<table border=\"1\" class=\"dataframe\">\n",
       "  <thead>\n",
       "    <tr style=\"text-align: right;\">\n",
       "      <th></th>\n",
       "      <th>idade</th>\n",
       "      <th>renda_mensal</th>\n",
       "      <th>comprou</th>\n",
       "    </tr>\n",
       "  </thead>\n",
       "  <tbody>\n",
       "    <tr>\n",
       "      <th>count</th>\n",
       "      <td>1855.000000</td>\n",
       "      <td>1555.000000</td>\n",
       "      <td>2000.000000</td>\n",
       "    </tr>\n",
       "    <tr>\n",
       "      <th>mean</th>\n",
       "      <td>44.858221</td>\n",
       "      <td>7963.066765</td>\n",
       "      <td>0.359000</td>\n",
       "    </tr>\n",
       "    <tr>\n",
       "      <th>std</th>\n",
       "      <td>15.147703</td>\n",
       "      <td>3993.210343</td>\n",
       "      <td>0.479827</td>\n",
       "    </tr>\n",
       "    <tr>\n",
       "      <th>min</th>\n",
       "      <td>18.000000</td>\n",
       "      <td>1200.490000</td>\n",
       "      <td>0.000000</td>\n",
       "    </tr>\n",
       "    <tr>\n",
       "      <th>25%</th>\n",
       "      <td>32.000000</td>\n",
       "      <td>4475.440000</td>\n",
       "      <td>0.000000</td>\n",
       "    </tr>\n",
       "    <tr>\n",
       "      <th>50%</th>\n",
       "      <td>45.000000</td>\n",
       "      <td>8002.910000</td>\n",
       "      <td>0.000000</td>\n",
       "    </tr>\n",
       "    <tr>\n",
       "      <th>75%</th>\n",
       "      <td>58.000000</td>\n",
       "      <td>11439.460000</td>\n",
       "      <td>1.000000</td>\n",
       "    </tr>\n",
       "    <tr>\n",
       "      <th>max</th>\n",
       "      <td>70.000000</td>\n",
       "      <td>14999.370000</td>\n",
       "      <td>1.000000</td>\n",
       "    </tr>\n",
       "  </tbody>\n",
       "</table>\n",
       "</div>"
      ],
      "text/plain": [
       "             idade  renda_mensal      comprou\n",
       "count  1855.000000   1555.000000  2000.000000\n",
       "mean     44.858221   7963.066765     0.359000\n",
       "std      15.147703   3993.210343     0.479827\n",
       "min      18.000000   1200.490000     0.000000\n",
       "25%      32.000000   4475.440000     0.000000\n",
       "50%      45.000000   8002.910000     0.000000\n",
       "75%      58.000000  11439.460000     1.000000\n",
       "max      70.000000  14999.370000     1.000000"
      ]
     },
     "execution_count": 40,
     "metadata": {},
     "output_type": "execute_result"
    }
   ],
   "source": [
    "df.describe()"
   ]
  },
  {
   "cell_type": "code",
   "execution_count": 41,
   "id": "2a512989",
   "metadata": {},
   "outputs": [
    {
     "name": "stderr",
     "output_type": "stream",
     "text": [
      "C:\\Users\\jesie\\AppData\\Local\\Temp\\ipykernel_5500\\1608947880.py:11: UserWarning: Parsing dates in %d/%m/%Y format when dayfirst=False (the default) was specified. Pass `dayfirst=True` or specify a format to silence this warning.\n",
      "  df['nascimento'] = pd.to_datetime(df['data_nasc'], errors='coerce') # caso a data estiver incorreta o errors 'coerce' ira corrigir\n"
     ]
    },
    {
     "data": {
      "text/html": [
       "<div>\n",
       "<style scoped>\n",
       "    .dataframe tbody tr th:only-of-type {\n",
       "        vertical-align: middle;\n",
       "    }\n",
       "\n",
       "    .dataframe tbody tr th {\n",
       "        vertical-align: top;\n",
       "    }\n",
       "\n",
       "    .dataframe thead th {\n",
       "        text-align: right;\n",
       "    }\n",
       "</style>\n",
       "<table border=\"1\" class=\"dataframe\">\n",
       "  <thead>\n",
       "    <tr style=\"text-align: right;\">\n",
       "      <th></th>\n",
       "      <th>idade</th>\n",
       "      <th>uf</th>\n",
       "      <th>renda_mensal</th>\n",
       "      <th>comprou</th>\n",
       "      <th>nascimento</th>\n",
       "    </tr>\n",
       "  </thead>\n",
       "  <tbody>\n",
       "    <tr>\n",
       "      <th>0</th>\n",
       "      <td>NaN</td>\n",
       "      <td>RJ</td>\n",
       "      <td>NaN</td>\n",
       "      <td>1</td>\n",
       "      <td>1984-09-15</td>\n",
       "    </tr>\n",
       "    <tr>\n",
       "      <th>1</th>\n",
       "      <td>59.0</td>\n",
       "      <td>SC</td>\n",
       "      <td>5587.73</td>\n",
       "      <td>0</td>\n",
       "      <td>1978-12-01</td>\n",
       "    </tr>\n",
       "    <tr>\n",
       "      <th>2</th>\n",
       "      <td>35.0</td>\n",
       "      <td>MG</td>\n",
       "      <td>4574.79</td>\n",
       "      <td>0</td>\n",
       "      <td>1965-11-24</td>\n",
       "    </tr>\n",
       "    <tr>\n",
       "      <th>3</th>\n",
       "      <td>70.0</td>\n",
       "      <td>MG</td>\n",
       "      <td>9305.10</td>\n",
       "      <td>0</td>\n",
       "      <td>1989-01-28</td>\n",
       "    </tr>\n",
       "    <tr>\n",
       "      <th>4</th>\n",
       "      <td>NaN</td>\n",
       "      <td>SP</td>\n",
       "      <td>5721.99</td>\n",
       "      <td>0</td>\n",
       "      <td>1984-08-16</td>\n",
       "    </tr>\n",
       "    <tr>\n",
       "      <th>...</th>\n",
       "      <td>...</td>\n",
       "      <td>...</td>\n",
       "      <td>...</td>\n",
       "      <td>...</td>\n",
       "      <td>...</td>\n",
       "    </tr>\n",
       "    <tr>\n",
       "      <th>1995</th>\n",
       "      <td>27.0</td>\n",
       "      <td>SP</td>\n",
       "      <td>11010.54</td>\n",
       "      <td>1</td>\n",
       "      <td>1983-06-19</td>\n",
       "    </tr>\n",
       "    <tr>\n",
       "      <th>1996</th>\n",
       "      <td>67.0</td>\n",
       "      <td>BA</td>\n",
       "      <td>5494.28</td>\n",
       "      <td>1</td>\n",
       "      <td>1998-09-02</td>\n",
       "    </tr>\n",
       "    <tr>\n",
       "      <th>1997</th>\n",
       "      <td>35.0</td>\n",
       "      <td>NaN</td>\n",
       "      <td>2253.63</td>\n",
       "      <td>0</td>\n",
       "      <td>1962-03-31</td>\n",
       "    </tr>\n",
       "    <tr>\n",
       "      <th>1998</th>\n",
       "      <td>28.0</td>\n",
       "      <td>RS</td>\n",
       "      <td>7870.88</td>\n",
       "      <td>1</td>\n",
       "      <td>1994-05-29</td>\n",
       "    </tr>\n",
       "    <tr>\n",
       "      <th>1999</th>\n",
       "      <td>18.0</td>\n",
       "      <td>BA</td>\n",
       "      <td>10881.54</td>\n",
       "      <td>1</td>\n",
       "      <td>1967-07-12</td>\n",
       "    </tr>\n",
       "  </tbody>\n",
       "</table>\n",
       "<p>2000 rows × 5 columns</p>\n",
       "</div>"
      ],
      "text/plain": [
       "      idade   uf  renda_mensal  comprou nascimento\n",
       "0       NaN   RJ           NaN        1 1984-09-15\n",
       "1      59.0   SC       5587.73        0 1978-12-01\n",
       "2      35.0   MG       4574.79        0 1965-11-24\n",
       "3      70.0   MG       9305.10        0 1989-01-28\n",
       "4       NaN   SP       5721.99        0 1984-08-16\n",
       "...     ...  ...           ...      ...        ...\n",
       "1995   27.0   SP      11010.54        1 1983-06-19\n",
       "1996   67.0   BA       5494.28        1 1998-09-02\n",
       "1997   35.0  NaN       2253.63        0 1962-03-31\n",
       "1998   28.0   RS       7870.88        1 1994-05-29\n",
       "1999   18.0   BA      10881.54        1 1967-07-12\n",
       "\n",
       "[2000 rows x 5 columns]"
      ]
     },
     "execution_count": 41,
     "metadata": {},
     "output_type": "execute_result"
    }
   ],
   "source": [
    "# Mudar o nome da coluna\n",
    "\n",
    "df.rename(columns={'cidade': 'uf'}, inplace=True)\n",
    "\n",
    "# Excluindo a serie nome\n",
    "\n",
    "df.drop('nome',axis=1,inplace=True)\n",
    "\n",
    "# Convertendo datas para datetime\n",
    "\n",
    "df['nascimento'] = pd.to_datetime(df['data_nasc'], errors='coerce') # caso a data estiver incorreta o errors 'coerce' ira corrigir\n",
    "\n",
    "df.drop('data_nasc',axis=1,inplace=True)\n",
    "df"
   ]
  },
  {
   "cell_type": "code",
   "execution_count": 42,
   "id": "35806e17",
   "metadata": {},
   "outputs": [
    {
     "name": "stdout",
     "output_type": "stream",
     "text": [
      "<class 'pandas.core.series.Series'>\n",
      "RangeIndex: 2000 entries, 0 to 1999\n",
      "Series name: nascimento\n",
      "Non-Null Count  Dtype         \n",
      "--------------  -----         \n",
      "1917 non-null   datetime64[ns]\n",
      "dtypes: datetime64[ns](1)\n",
      "memory usage: 15.8 KB\n"
     ]
    }
   ],
   "source": [
    "df['nascimento'].info()"
   ]
  },
  {
   "cell_type": "code",
   "execution_count": 43,
   "id": "9e9769ea",
   "metadata": {},
   "outputs": [
    {
     "name": "stdout",
     "output_type": "stream",
     "text": [
      "<class 'pandas.core.frame.DataFrame'>\n",
      "Index: 1917 entries, 0 to 1999\n",
      "Data columns (total 5 columns):\n",
      " #   Column        Non-Null Count  Dtype         \n",
      "---  ------        --------------  -----         \n",
      " 0   idade         1780 non-null   float64       \n",
      " 1   uf            1778 non-null   object        \n",
      " 2   renda_mensal  1491 non-null   float64       \n",
      " 3   comprou       1917 non-null   int64         \n",
      " 4   nascimento    1917 non-null   datetime64[ns]\n",
      "dtypes: datetime64[ns](1), float64(2), int64(1), object(1)\n",
      "memory usage: 89.9+ KB\n"
     ]
    }
   ],
   "source": [
    "# Excluir os valores nulos da lista nascimento\n",
    "\n",
    "df.dropna(subset=['nascimento'], inplace=True)\n",
    "df.info()"
   ]
  },
  {
   "cell_type": "markdown",
   "id": "e4925484",
   "metadata": {},
   "source": [
    "# Fillna"
   ]
  },
  {
   "cell_type": "markdown",
   "id": "711b35f8",
   "metadata": {},
   "source": [
    "preencher os valores nulos com a moda de coluna"
   ]
  },
  {
   "cell_type": "code",
   "execution_count": 44,
   "id": "553dbbf6",
   "metadata": {},
   "outputs": [
    {
     "name": "stdout",
     "output_type": "stream",
     "text": [
      "<class 'pandas.core.frame.DataFrame'>\n",
      "Index: 1917 entries, 0 to 1999\n",
      "Data columns (total 5 columns):\n",
      " #   Column        Non-Null Count  Dtype         \n",
      "---  ------        --------------  -----         \n",
      " 0   idade         1780 non-null   float64       \n",
      " 1   uf            1917 non-null   object        \n",
      " 2   renda_mensal  1491 non-null   float64       \n",
      " 3   comprou       1917 non-null   int64         \n",
      " 4   nascimento    1917 non-null   datetime64[ns]\n",
      "dtypes: datetime64[ns](1), float64(2), int64(1), object(1)\n",
      "memory usage: 89.9+ KB\n"
     ]
    },
    {
     "name": "stderr",
     "output_type": "stream",
     "text": [
      "C:\\Users\\jesie\\AppData\\Local\\Temp\\ipykernel_5500\\3826556467.py:3: FutureWarning: A value is trying to be set on a copy of a DataFrame or Series through chained assignment using an inplace method.\n",
      "The behavior will change in pandas 3.0. This inplace method will never work because the intermediate object on which we are setting values always behaves as a copy.\n",
      "\n",
      "For example, when doing 'df[col].method(value, inplace=True)', try using 'df.method({col: value}, inplace=True)' or df[col] = df[col].method(value) instead, to perform the operation inplace on the original object.\n",
      "\n",
      "\n",
      "  df['uf'].fillna(moda[0], inplace=True) # sempre vem duas modas, coloca o indice 0 para so uma moda\n"
     ]
    }
   ],
   "source": [
    "moda = df['uf'].mode() #definindo a moda que a gente quer\n",
    "\n",
    "df['uf'].fillna(moda[0], inplace=True) # sempre vem duas modas, coloca o indice 0 para so uma moda\n",
    "\n",
    "df.info()"
   ]
  },
  {
   "cell_type": "code",
   "execution_count": 45,
   "id": "65ed0036",
   "metadata": {},
   "outputs": [
    {
     "name": "stdout",
     "output_type": "stream",
     "text": [
      "<class 'pandas.core.frame.DataFrame'>\n",
      "Index: 1917 entries, 0 to 1999\n",
      "Data columns (total 5 columns):\n",
      " #   Column        Non-Null Count  Dtype         \n",
      "---  ------        --------------  -----         \n",
      " 0   idade         1780 non-null   float64       \n",
      " 1   uf            1917 non-null   object        \n",
      " 2   renda_mensal  1917 non-null   float64       \n",
      " 3   comprou       1917 non-null   int64         \n",
      " 4   nascimento    1917 non-null   datetime64[ns]\n",
      "dtypes: datetime64[ns](1), float64(2), int64(1), object(1)\n",
      "memory usage: 89.9+ KB\n"
     ]
    },
    {
     "name": "stderr",
     "output_type": "stream",
     "text": [
      "C:\\Users\\jesie\\AppData\\Local\\Temp\\ipykernel_5500\\2338280161.py:1: FutureWarning: A value is trying to be set on a copy of a DataFrame or Series through chained assignment using an inplace method.\n",
      "The behavior will change in pandas 3.0. This inplace method will never work because the intermediate object on which we are setting values always behaves as a copy.\n",
      "\n",
      "For example, when doing 'df[col].method(value, inplace=True)', try using 'df.method({col: value}, inplace=True)' or df[col] = df[col].method(value) instead, to perform the operation inplace on the original object.\n",
      "\n",
      "\n",
      "  df['renda_mensal'].fillna(df['renda_mensal'].mean(), inplace=True) # Preeenchendo a coluna renda_mensal com a media, pois os valores estao proximos a media\n"
     ]
    }
   ],
   "source": [
    "df['renda_mensal'].fillna(df['renda_mensal'].mean(), inplace=True) # Preeenchendo a coluna renda_mensal com a media, pois os valores estao proximos a media\n",
    "df.info()"
   ]
  },
  {
   "cell_type": "markdown",
   "id": "981ad3a5",
   "metadata": {},
   "source": [
    "# calcular as idades atraves da data de nascimento e preenher"
   ]
  },
  {
   "cell_type": "code",
   "execution_count": 46,
   "id": "7f27d546",
   "metadata": {},
   "outputs": [],
   "source": [
    "import datetime"
   ]
  },
  {
   "cell_type": "code",
   "execution_count": 47,
   "id": "b95f055f",
   "metadata": {},
   "outputs": [
    {
     "data": {
      "text/html": [
       "<div>\n",
       "<style scoped>\n",
       "    .dataframe tbody tr th:only-of-type {\n",
       "        vertical-align: middle;\n",
       "    }\n",
       "\n",
       "    .dataframe tbody tr th {\n",
       "        vertical-align: top;\n",
       "    }\n",
       "\n",
       "    .dataframe thead th {\n",
       "        text-align: right;\n",
       "    }\n",
       "</style>\n",
       "<table border=\"1\" class=\"dataframe\">\n",
       "  <thead>\n",
       "    <tr style=\"text-align: right;\">\n",
       "      <th></th>\n",
       "      <th>idade</th>\n",
       "      <th>uf</th>\n",
       "      <th>renda_mensal</th>\n",
       "      <th>comprou</th>\n",
       "      <th>nascimento</th>\n",
       "      <th>calc_idade</th>\n",
       "    </tr>\n",
       "  </thead>\n",
       "  <tbody>\n",
       "    <tr>\n",
       "      <th>0</th>\n",
       "      <td>NaN</td>\n",
       "      <td>RJ</td>\n",
       "      <td>7997.185158</td>\n",
       "      <td>1</td>\n",
       "      <td>1984-09-15</td>\n",
       "      <td>41.0</td>\n",
       "    </tr>\n",
       "    <tr>\n",
       "      <th>1</th>\n",
       "      <td>59.0</td>\n",
       "      <td>SC</td>\n",
       "      <td>5587.730000</td>\n",
       "      <td>0</td>\n",
       "      <td>1978-12-01</td>\n",
       "      <td>46.0</td>\n",
       "    </tr>\n",
       "    <tr>\n",
       "      <th>2</th>\n",
       "      <td>35.0</td>\n",
       "      <td>MG</td>\n",
       "      <td>4574.790000</td>\n",
       "      <td>0</td>\n",
       "      <td>1965-11-24</td>\n",
       "      <td>60.0</td>\n",
       "    </tr>\n",
       "    <tr>\n",
       "      <th>3</th>\n",
       "      <td>70.0</td>\n",
       "      <td>MG</td>\n",
       "      <td>9305.100000</td>\n",
       "      <td>0</td>\n",
       "      <td>1989-01-28</td>\n",
       "      <td>36.0</td>\n",
       "    </tr>\n",
       "    <tr>\n",
       "      <th>4</th>\n",
       "      <td>NaN</td>\n",
       "      <td>SP</td>\n",
       "      <td>5721.990000</td>\n",
       "      <td>0</td>\n",
       "      <td>1984-08-16</td>\n",
       "      <td>41.0</td>\n",
       "    </tr>\n",
       "    <tr>\n",
       "      <th>...</th>\n",
       "      <td>...</td>\n",
       "      <td>...</td>\n",
       "      <td>...</td>\n",
       "      <td>...</td>\n",
       "      <td>...</td>\n",
       "      <td>...</td>\n",
       "    </tr>\n",
       "    <tr>\n",
       "      <th>1995</th>\n",
       "      <td>27.0</td>\n",
       "      <td>SP</td>\n",
       "      <td>11010.540000</td>\n",
       "      <td>1</td>\n",
       "      <td>1983-06-19</td>\n",
       "      <td>42.0</td>\n",
       "    </tr>\n",
       "    <tr>\n",
       "      <th>1996</th>\n",
       "      <td>67.0</td>\n",
       "      <td>BA</td>\n",
       "      <td>5494.280000</td>\n",
       "      <td>1</td>\n",
       "      <td>1998-09-02</td>\n",
       "      <td>27.0</td>\n",
       "    </tr>\n",
       "    <tr>\n",
       "      <th>1997</th>\n",
       "      <td>35.0</td>\n",
       "      <td>SP</td>\n",
       "      <td>2253.630000</td>\n",
       "      <td>0</td>\n",
       "      <td>1962-03-31</td>\n",
       "      <td>63.0</td>\n",
       "    </tr>\n",
       "    <tr>\n",
       "      <th>1998</th>\n",
       "      <td>28.0</td>\n",
       "      <td>RS</td>\n",
       "      <td>7870.880000</td>\n",
       "      <td>1</td>\n",
       "      <td>1994-05-29</td>\n",
       "      <td>31.0</td>\n",
       "    </tr>\n",
       "    <tr>\n",
       "      <th>1999</th>\n",
       "      <td>18.0</td>\n",
       "      <td>BA</td>\n",
       "      <td>10881.540000</td>\n",
       "      <td>1</td>\n",
       "      <td>1967-07-12</td>\n",
       "      <td>58.0</td>\n",
       "    </tr>\n",
       "  </tbody>\n",
       "</table>\n",
       "<p>1917 rows × 6 columns</p>\n",
       "</div>"
      ],
      "text/plain": [
       "      idade  uf  renda_mensal  comprou nascimento  calc_idade\n",
       "0       NaN  RJ   7997.185158        1 1984-09-15        41.0\n",
       "1      59.0  SC   5587.730000        0 1978-12-01        46.0\n",
       "2      35.0  MG   4574.790000        0 1965-11-24        60.0\n",
       "3      70.0  MG   9305.100000        0 1989-01-28        36.0\n",
       "4       NaN  SP   5721.990000        0 1984-08-16        41.0\n",
       "...     ...  ..           ...      ...        ...         ...\n",
       "1995   27.0  SP  11010.540000        1 1983-06-19        42.0\n",
       "1996   67.0  BA   5494.280000        1 1998-09-02        27.0\n",
       "1997   35.0  SP   2253.630000        0 1962-03-31        63.0\n",
       "1998   28.0  RS   7870.880000        1 1994-05-29        31.0\n",
       "1999   18.0  BA  10881.540000        1 1967-07-12        58.0\n",
       "\n",
       "[1917 rows x 6 columns]"
      ]
     },
     "execution_count": 47,
     "metadata": {},
     "output_type": "execute_result"
    }
   ],
   "source": [
    "hoje = pd.to_datetime('today')\n",
    "\n",
    "df['calc_idade'] = round((hoje -df['nascimento']).dt.days/365,0)\n",
    "df"
   ]
  },
  {
   "cell_type": "code",
   "execution_count": null,
   "id": "10d53ded",
   "metadata": {},
   "outputs": [],
   "source": []
  }
 ],
 "metadata": {
  "kernelspec": {
   "display_name": ".venv",
   "language": "python",
   "name": "python3"
  },
  "language_info": {
   "codemirror_mode": {
    "name": "ipython",
    "version": 3
   },
   "file_extension": ".py",
   "mimetype": "text/x-python",
   "name": "python",
   "nbconvert_exporter": "python",
   "pygments_lexer": "ipython3",
   "version": "3.11.9"
  }
 },
 "nbformat": 4,
 "nbformat_minor": 5
}
