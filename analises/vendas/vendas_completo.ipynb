{
 "cells": [
  {
   "cell_type": "code",
   "execution_count": 1,
   "id": "08a49c68-02cf-4422-ba34-996726770ab4",
   "metadata": {},
   "outputs": [
    {
     "name": "stdout",
     "output_type": "stream",
     "text": [
      "Note: you may need to restart the kernel to use updated packages.\n"
     ]
    }
   ],
   "source": [
    "# Ensure pandas is installed\n",
    "%pip install pandas -q\n",
    "\n",
    "# Restart the kernel if the issue persists\n",
    "import pandas as pd"
   ]
  },
  {
   "cell_type": "code",
   "execution_count": 3,
   "id": "b8180b7f-b5df-4ab0-b7c4-a4743a3b0ff8",
   "metadata": {},
   "outputs": [],
   "source": [
    "# Lendo o arquivo .csv(necessita Falar o destinatario do arquivo)\n",
    "\n",
    "dados = pd.read_csv('./vendas.csv', sep=';')"
   ]
  },
  {
   "cell_type": "code",
   "execution_count": 6,
   "id": "4d40624d-9d13-4d6f-b503-c29ee04d3250",
   "metadata": {},
   "outputs": [
    {
     "name": "stdout",
     "output_type": "stream",
     "text": [
      "<class 'pandas.core.frame.DataFrame'>\n"
     ]
    }
   ],
   "source": [
    "print(type(dados))"
   ]
  },
  {
   "cell_type": "code",
   "execution_count": 7,
   "id": "53b4c4c2",
   "metadata": {},
   "outputs": [
    {
     "data": {
      "text/html": [
       "<div>\n",
       "<style scoped>\n",
       "    .dataframe tbody tr th:only-of-type {\n",
       "        vertical-align: middle;\n",
       "    }\n",
       "\n",
       "    .dataframe tbody tr th {\n",
       "        vertical-align: top;\n",
       "    }\n",
       "\n",
       "    .dataframe thead th {\n",
       "        text-align: right;\n",
       "    }\n",
       "</style>\n",
       "<table border=\"1\" class=\"dataframe\">\n",
       "  <thead>\n",
       "    <tr style=\"text-align: right;\">\n",
       "      <th></th>\n",
       "      <th>ID_Pedido</th>\n",
       "      <th>Data_Compra</th>\n",
       "      <th>Cliente_ID</th>\n",
       "      <th>Valor_Total</th>\n",
       "      <th>Categoria_Produto</th>\n",
       "      <th>Quantidade</th>\n",
       "    </tr>\n",
       "  </thead>\n",
       "  <tbody>\n",
       "    <tr>\n",
       "      <th>0</th>\n",
       "      <td>1001</td>\n",
       "      <td>2024-03-01</td>\n",
       "      <td>501</td>\n",
       "      <td>150.75</td>\n",
       "      <td>Eletrônicos</td>\n",
       "      <td>1</td>\n",
       "    </tr>\n",
       "    <tr>\n",
       "      <th>1</th>\n",
       "      <td>1002</td>\n",
       "      <td>2024-03-02</td>\n",
       "      <td>502</td>\n",
       "      <td>200.50</td>\n",
       "      <td>Roupas</td>\n",
       "      <td>3</td>\n",
       "    </tr>\n",
       "    <tr>\n",
       "      <th>2</th>\n",
       "      <td>1003</td>\n",
       "      <td>2024-03-03</td>\n",
       "      <td>503</td>\n",
       "      <td>320.00</td>\n",
       "      <td>Casa</td>\n",
       "      <td>2</td>\n",
       "    </tr>\n",
       "    <tr>\n",
       "      <th>3</th>\n",
       "      <td>1004</td>\n",
       "      <td>2024-03-04</td>\n",
       "      <td>501</td>\n",
       "      <td>90.25</td>\n",
       "      <td>Eletrônicos</td>\n",
       "      <td>1</td>\n",
       "    </tr>\n",
       "    <tr>\n",
       "      <th>4</th>\n",
       "      <td>1005</td>\n",
       "      <td>2024-03-05</td>\n",
       "      <td>504</td>\n",
       "      <td>450.60</td>\n",
       "      <td>Esportes</td>\n",
       "      <td>4</td>\n",
       "    </tr>\n",
       "  </tbody>\n",
       "</table>\n",
       "</div>"
      ],
      "text/plain": [
       "   ID_Pedido Data_Compra  Cliente_ID  Valor_Total Categoria_Produto  \\\n",
       "0       1001  2024-03-01         501       150.75       Eletrônicos   \n",
       "1       1002  2024-03-02         502       200.50            Roupas   \n",
       "2       1003  2024-03-03         503       320.00              Casa   \n",
       "3       1004  2024-03-04         501        90.25       Eletrônicos   \n",
       "4       1005  2024-03-05         504       450.60          Esportes   \n",
       "\n",
       "   Quantidade  \n",
       "0           1  \n",
       "1           3  \n",
       "2           2  \n",
       "3           1  \n",
       "4           4  "
      ]
     },
     "execution_count": 7,
     "metadata": {},
     "output_type": "execute_result"
    }
   ],
   "source": [
    "dados"
   ]
  },
  {
   "cell_type": "markdown",
   "id": "d94d3bd7-884e-4cee-b424-0bc82056ad8d",
   "metadata": {},
   "source": [
    "# analise exploratoria\n",
    "trata-se de um reconhecimento inicial dos dados presentes no dataset"
   ]
  },
  {
   "cell_type": "code",
   "execution_count": 5,
   "id": "126a5461-9b0d-4021-b0df-3eff77676021",
   "metadata": {},
   "outputs": [
    {
     "data": {
      "text/html": [
       "<div>\n",
       "<style scoped>\n",
       "    .dataframe tbody tr th:only-of-type {\n",
       "        vertical-align: middle;\n",
       "    }\n",
       "\n",
       "    .dataframe tbody tr th {\n",
       "        vertical-align: top;\n",
       "    }\n",
       "\n",
       "    .dataframe thead th {\n",
       "        text-align: right;\n",
       "    }\n",
       "</style>\n",
       "<table border=\"1\" class=\"dataframe\">\n",
       "  <thead>\n",
       "    <tr style=\"text-align: right;\">\n",
       "      <th></th>\n",
       "      <th>ID_Pedido</th>\n",
       "      <th>Data_Compra</th>\n",
       "      <th>Cliente_ID</th>\n",
       "      <th>Valor_Total</th>\n",
       "      <th>Categoria_Produto</th>\n",
       "      <th>Quantidade</th>\n",
       "    </tr>\n",
       "  </thead>\n",
       "  <tbody>\n",
       "    <tr>\n",
       "      <th>0</th>\n",
       "      <td>1001</td>\n",
       "      <td>2024-03-01</td>\n",
       "      <td>501</td>\n",
       "      <td>150.75</td>\n",
       "      <td>Eletrônicos</td>\n",
       "      <td>1</td>\n",
       "    </tr>\n",
       "    <tr>\n",
       "      <th>1</th>\n",
       "      <td>1002</td>\n",
       "      <td>2024-03-02</td>\n",
       "      <td>502</td>\n",
       "      <td>200.50</td>\n",
       "      <td>Roupas</td>\n",
       "      <td>3</td>\n",
       "    </tr>\n",
       "    <tr>\n",
       "      <th>2</th>\n",
       "      <td>1003</td>\n",
       "      <td>2024-03-03</td>\n",
       "      <td>503</td>\n",
       "      <td>320.00</td>\n",
       "      <td>Casa</td>\n",
       "      <td>2</td>\n",
       "    </tr>\n",
       "    <tr>\n",
       "      <th>3</th>\n",
       "      <td>1004</td>\n",
       "      <td>2024-03-04</td>\n",
       "      <td>501</td>\n",
       "      <td>90.25</td>\n",
       "      <td>Eletrônicos</td>\n",
       "      <td>1</td>\n",
       "    </tr>\n",
       "    <tr>\n",
       "      <th>4</th>\n",
       "      <td>1005</td>\n",
       "      <td>2024-03-05</td>\n",
       "      <td>504</td>\n",
       "      <td>450.60</td>\n",
       "      <td>Esportes</td>\n",
       "      <td>4</td>\n",
       "    </tr>\n",
       "  </tbody>\n",
       "</table>\n",
       "</div>"
      ],
      "text/plain": [
       "   ID_Pedido Data_Compra  Cliente_ID  Valor_Total Categoria_Produto  \\\n",
       "0       1001  2024-03-01         501       150.75       Eletrônicos   \n",
       "1       1002  2024-03-02         502       200.50            Roupas   \n",
       "2       1003  2024-03-03         503       320.00              Casa   \n",
       "3       1004  2024-03-04         501        90.25       Eletrônicos   \n",
       "4       1005  2024-03-05         504       450.60          Esportes   \n",
       "\n",
       "   Quantidade  \n",
       "0           1  \n",
       "1           3  \n",
       "2           2  \n",
       "3           1  \n",
       "4           4  "
      ]
     },
     "execution_count": 5,
     "metadata": {},
     "output_type": "execute_result"
    }
   ],
   "source": [
    "# Vizualizar as linhas iniciais do dataset\n",
    "\n",
    "dados.head()"
   ]
  },
  {
   "cell_type": "code",
   "execution_count": 21,
   "id": "2c0fb9e8",
   "metadata": {},
   "outputs": [
    {
     "data": {
      "text/html": [
       "<div>\n",
       "<style scoped>\n",
       "    .dataframe tbody tr th:only-of-type {\n",
       "        vertical-align: middle;\n",
       "    }\n",
       "\n",
       "    .dataframe tbody tr th {\n",
       "        vertical-align: top;\n",
       "    }\n",
       "\n",
       "    .dataframe thead th {\n",
       "        text-align: right;\n",
       "    }\n",
       "</style>\n",
       "<table border=\"1\" class=\"dataframe\">\n",
       "  <thead>\n",
       "    <tr style=\"text-align: right;\">\n",
       "      <th></th>\n",
       "      <th>ID_Pedido</th>\n",
       "      <th>Data_Compra</th>\n",
       "      <th>Cliente_ID</th>\n",
       "      <th>Valor_Total</th>\n",
       "      <th>Categoria_Produto</th>\n",
       "      <th>Quantidade</th>\n",
       "    </tr>\n",
       "  </thead>\n",
       "  <tbody>\n",
       "    <tr>\n",
       "      <th>0</th>\n",
       "      <td>1001</td>\n",
       "      <td>2024-03-01</td>\n",
       "      <td>501</td>\n",
       "      <td>150.75</td>\n",
       "      <td>Eletrônicos</td>\n",
       "      <td>1</td>\n",
       "    </tr>\n",
       "    <tr>\n",
       "      <th>1</th>\n",
       "      <td>1002</td>\n",
       "      <td>2024-03-02</td>\n",
       "      <td>502</td>\n",
       "      <td>200.50</td>\n",
       "      <td>Roupas</td>\n",
       "      <td>3</td>\n",
       "    </tr>\n",
       "    <tr>\n",
       "      <th>2</th>\n",
       "      <td>1003</td>\n",
       "      <td>2024-03-03</td>\n",
       "      <td>503</td>\n",
       "      <td>320.00</td>\n",
       "      <td>Casa</td>\n",
       "      <td>2</td>\n",
       "    </tr>\n",
       "    <tr>\n",
       "      <th>3</th>\n",
       "      <td>1004</td>\n",
       "      <td>2024-03-04</td>\n",
       "      <td>501</td>\n",
       "      <td>90.25</td>\n",
       "      <td>Eletrônicos</td>\n",
       "      <td>1</td>\n",
       "    </tr>\n",
       "    <tr>\n",
       "      <th>4</th>\n",
       "      <td>1005</td>\n",
       "      <td>2024-03-05</td>\n",
       "      <td>504</td>\n",
       "      <td>450.60</td>\n",
       "      <td>Esportes</td>\n",
       "      <td>4</td>\n",
       "    </tr>\n",
       "  </tbody>\n",
       "</table>\n",
       "</div>"
      ],
      "text/plain": [
       "   ID_Pedido Data_Compra  Cliente_ID  Valor_Total Categoria_Produto  \\\n",
       "0       1001  2024-03-01         501       150.75       Eletrônicos   \n",
       "1       1002  2024-03-02         502       200.50            Roupas   \n",
       "2       1003  2024-03-03         503       320.00              Casa   \n",
       "3       1004  2024-03-04         501        90.25       Eletrônicos   \n",
       "4       1005  2024-03-05         504       450.60          Esportes   \n",
       "\n",
       "   Quantidade  \n",
       "0           1  \n",
       "1           3  \n",
       "2           2  \n",
       "3           1  \n",
       "4           4  "
      ]
     },
     "execution_count": 21,
     "metadata": {},
     "output_type": "execute_result"
    }
   ],
   "source": [
    "# Vizualiza as linhas iniciais dos dados\n",
    "dados.head()"
   ]
  },
  {
   "cell_type": "code",
   "execution_count": 22,
   "id": "bc35c37c",
   "metadata": {},
   "outputs": [
    {
     "data": {
      "text/html": [
       "<div>\n",
       "<style scoped>\n",
       "    .dataframe tbody tr th:only-of-type {\n",
       "        vertical-align: middle;\n",
       "    }\n",
       "\n",
       "    .dataframe tbody tr th {\n",
       "        vertical-align: top;\n",
       "    }\n",
       "\n",
       "    .dataframe thead th {\n",
       "        text-align: right;\n",
       "    }\n",
       "</style>\n",
       "<table border=\"1\" class=\"dataframe\">\n",
       "  <thead>\n",
       "    <tr style=\"text-align: right;\">\n",
       "      <th></th>\n",
       "      <th>ID_Pedido</th>\n",
       "      <th>Data_Compra</th>\n",
       "      <th>Cliente_ID</th>\n",
       "      <th>Valor_Total</th>\n",
       "      <th>Categoria_Produto</th>\n",
       "      <th>Quantidade</th>\n",
       "    </tr>\n",
       "  </thead>\n",
       "  <tbody>\n",
       "    <tr>\n",
       "      <th>0</th>\n",
       "      <td>1001</td>\n",
       "      <td>2024-03-01</td>\n",
       "      <td>501</td>\n",
       "      <td>150.75</td>\n",
       "      <td>Eletrônicos</td>\n",
       "      <td>1</td>\n",
       "    </tr>\n",
       "    <tr>\n",
       "      <th>1</th>\n",
       "      <td>1002</td>\n",
       "      <td>2024-03-02</td>\n",
       "      <td>502</td>\n",
       "      <td>200.50</td>\n",
       "      <td>Roupas</td>\n",
       "      <td>3</td>\n",
       "    </tr>\n",
       "    <tr>\n",
       "      <th>2</th>\n",
       "      <td>1003</td>\n",
       "      <td>2024-03-03</td>\n",
       "      <td>503</td>\n",
       "      <td>320.00</td>\n",
       "      <td>Casa</td>\n",
       "      <td>2</td>\n",
       "    </tr>\n",
       "    <tr>\n",
       "      <th>3</th>\n",
       "      <td>1004</td>\n",
       "      <td>2024-03-04</td>\n",
       "      <td>501</td>\n",
       "      <td>90.25</td>\n",
       "      <td>Eletrônicos</td>\n",
       "      <td>1</td>\n",
       "    </tr>\n",
       "    <tr>\n",
       "      <th>4</th>\n",
       "      <td>1005</td>\n",
       "      <td>2024-03-05</td>\n",
       "      <td>504</td>\n",
       "      <td>450.60</td>\n",
       "      <td>Esportes</td>\n",
       "      <td>4</td>\n",
       "    </tr>\n",
       "  </tbody>\n",
       "</table>\n",
       "</div>"
      ],
      "text/plain": [
       "   ID_Pedido Data_Compra  Cliente_ID  Valor_Total Categoria_Produto  \\\n",
       "0       1001  2024-03-01         501       150.75       Eletrônicos   \n",
       "1       1002  2024-03-02         502       200.50            Roupas   \n",
       "2       1003  2024-03-03         503       320.00              Casa   \n",
       "3       1004  2024-03-04         501        90.25       Eletrônicos   \n",
       "4       1005  2024-03-05         504       450.60          Esportes   \n",
       "\n",
       "   Quantidade  \n",
       "0           1  \n",
       "1           3  \n",
       "2           2  \n",
       "3           1  \n",
       "4           4  "
      ]
     },
     "execution_count": 22,
     "metadata": {},
     "output_type": "execute_result"
    }
   ],
   "source": [
    "# Vizualiza as linhas finais do dataset\n",
    "dados.tail()"
   ]
  },
  {
   "cell_type": "code",
   "execution_count": 23,
   "id": "17a239a3",
   "metadata": {},
   "outputs": [
    {
     "data": {
      "text/html": [
       "<div>\n",
       "<style scoped>\n",
       "    .dataframe tbody tr th:only-of-type {\n",
       "        vertical-align: middle;\n",
       "    }\n",
       "\n",
       "    .dataframe tbody tr th {\n",
       "        vertical-align: top;\n",
       "    }\n",
       "\n",
       "    .dataframe thead th {\n",
       "        text-align: right;\n",
       "    }\n",
       "</style>\n",
       "<table border=\"1\" class=\"dataframe\">\n",
       "  <thead>\n",
       "    <tr style=\"text-align: right;\">\n",
       "      <th></th>\n",
       "      <th>ID_Pedido</th>\n",
       "      <th>Data_Compra</th>\n",
       "      <th>Cliente_ID</th>\n",
       "      <th>Valor_Total</th>\n",
       "      <th>Categoria_Produto</th>\n",
       "      <th>Quantidade</th>\n",
       "    </tr>\n",
       "  </thead>\n",
       "  <tbody>\n",
       "    <tr>\n",
       "      <th>0</th>\n",
       "      <td>1001</td>\n",
       "      <td>2024-03-01</td>\n",
       "      <td>501</td>\n",
       "      <td>150.75</td>\n",
       "      <td>Eletrônicos</td>\n",
       "      <td>1</td>\n",
       "    </tr>\n",
       "    <tr>\n",
       "      <th>1</th>\n",
       "      <td>1002</td>\n",
       "      <td>2024-03-02</td>\n",
       "      <td>502</td>\n",
       "      <td>200.50</td>\n",
       "      <td>Roupas</td>\n",
       "      <td>3</td>\n",
       "    </tr>\n",
       "    <tr>\n",
       "      <th>2</th>\n",
       "      <td>1003</td>\n",
       "      <td>2024-03-03</td>\n",
       "      <td>503</td>\n",
       "      <td>320.00</td>\n",
       "      <td>Casa</td>\n",
       "      <td>2</td>\n",
       "    </tr>\n",
       "    <tr>\n",
       "      <th>3</th>\n",
       "      <td>1004</td>\n",
       "      <td>2024-03-04</td>\n",
       "      <td>501</td>\n",
       "      <td>90.25</td>\n",
       "      <td>Eletrônicos</td>\n",
       "      <td>1</td>\n",
       "    </tr>\n",
       "    <tr>\n",
       "      <th>4</th>\n",
       "      <td>1005</td>\n",
       "      <td>2024-03-05</td>\n",
       "      <td>504</td>\n",
       "      <td>450.60</td>\n",
       "      <td>Esportes</td>\n",
       "      <td>4</td>\n",
       "    </tr>\n",
       "  </tbody>\n",
       "</table>\n",
       "</div>"
      ],
      "text/plain": [
       "   ID_Pedido Data_Compra  Cliente_ID  Valor_Total Categoria_Produto  \\\n",
       "0       1001  2024-03-01         501       150.75       Eletrônicos   \n",
       "1       1002  2024-03-02         502       200.50            Roupas   \n",
       "2       1003  2024-03-03         503       320.00              Casa   \n",
       "3       1004  2024-03-04         501        90.25       Eletrônicos   \n",
       "4       1005  2024-03-05         504       450.60          Esportes   \n",
       "\n",
       "   Quantidade  \n",
       "0           1  \n",
       "1           3  \n",
       "2           2  \n",
       "3           1  \n",
       "4           4  "
      ]
     },
     "execution_count": 23,
     "metadata": {},
     "output_type": "execute_result"
    }
   ],
   "source": [
    "#  Mostra a quantidade de linhas e series (colunas)\n",
    "dados"
   ]
  },
  {
   "cell_type": "code",
   "execution_count": 24,
   "id": "12397b3e",
   "metadata": {},
   "outputs": [
    {
     "name": "stdout",
     "output_type": "stream",
     "text": [
      "variancia: 20668.488250000002\n",
      "mediana: 200.5\n"
     ]
    }
   ],
   "source": [
    "variancia = dados['Valor_Total'].var()\n",
    "mediana = dados['Valor_Total'].median()\n",
    "\n",
    "print(f'variancia: {variancia}')\n",
    "print(f'mediana: {mediana}')"
   ]
  },
  {
   "cell_type": "code",
   "execution_count": 25,
   "id": "599e3aa1",
   "metadata": {},
   "outputs": [
    {
     "name": "stdout",
     "output_type": "stream",
     "text": [
      "<class 'pandas.core.frame.DataFrame'>\n",
      "RangeIndex: 5 entries, 0 to 4\n",
      "Data columns (total 6 columns):\n",
      " #   Column             Non-Null Count  Dtype  \n",
      "---  ------             --------------  -----  \n",
      " 0   ID_Pedido          5 non-null      int64  \n",
      " 1   Data_Compra        5 non-null      object \n",
      " 2   Cliente_ID         5 non-null      int64  \n",
      " 3   Valor_Total        5 non-null      float64\n",
      " 4   Categoria_Produto  5 non-null      object \n",
      " 5   Quantidade         5 non-null      int64  \n",
      "dtypes: float64(1), int64(3), object(2)\n",
      "memory usage: 372.0+ bytes\n"
     ]
    }
   ],
   "source": [
    "dados.info()"
   ]
  },
  {
   "cell_type": "code",
   "execution_count": 26,
   "id": "4ec41b61",
   "metadata": {},
   "outputs": [
    {
     "data": {
      "text/plain": [
       "array(['Eletrônicos', 'Roupas', 'Casa', 'Esportes'], dtype=object)"
      ]
     },
     "execution_count": 26,
     "metadata": {},
     "output_type": "execute_result"
    }
   ],
   "source": [
    "dados['Categoria_Produto'].unique()\n"
   ]
  },
  {
   "cell_type": "code",
   "execution_count": 27,
   "id": "e54fadc2",
   "metadata": {},
   "outputs": [
    {
     "data": {
      "text/plain": [
       "Categoria_Produto\n",
       "Eletrônicos    2\n",
       "Roupas         1\n",
       "Casa           1\n",
       "Esportes       1\n",
       "Name: count, dtype: int64"
      ]
     },
     "execution_count": 27,
     "metadata": {},
     "output_type": "execute_result"
    }
   ],
   "source": [
    "dados['Categoria_Produto'].value_counts()"
   ]
  },
  {
   "cell_type": "code",
   "execution_count": 28,
   "id": "ba88a3f7",
   "metadata": {},
   "outputs": [
    {
     "data": {
      "text/html": [
       "<div>\n",
       "<style scoped>\n",
       "    .dataframe tbody tr th:only-of-type {\n",
       "        vertical-align: middle;\n",
       "    }\n",
       "\n",
       "    .dataframe tbody tr th {\n",
       "        vertical-align: top;\n",
       "    }\n",
       "\n",
       "    .dataframe thead th {\n",
       "        text-align: right;\n",
       "    }\n",
       "</style>\n",
       "<table border=\"1\" class=\"dataframe\">\n",
       "  <thead>\n",
       "    <tr style=\"text-align: right;\">\n",
       "      <th></th>\n",
       "      <th>ID_Pedido</th>\n",
       "      <th>Dt_Compra</th>\n",
       "      <th>Cliente_ID</th>\n",
       "      <th>Valor_Total</th>\n",
       "      <th>Categoria_Produto</th>\n",
       "      <th>Quantidade</th>\n",
       "    </tr>\n",
       "  </thead>\n",
       "  <tbody>\n",
       "    <tr>\n",
       "      <th>0</th>\n",
       "      <td>1001</td>\n",
       "      <td>2024-03-01</td>\n",
       "      <td>501</td>\n",
       "      <td>150.75</td>\n",
       "      <td>Eletrônicos</td>\n",
       "      <td>1</td>\n",
       "    </tr>\n",
       "    <tr>\n",
       "      <th>1</th>\n",
       "      <td>1002</td>\n",
       "      <td>2024-03-02</td>\n",
       "      <td>502</td>\n",
       "      <td>200.50</td>\n",
       "      <td>Roupas</td>\n",
       "      <td>3</td>\n",
       "    </tr>\n",
       "    <tr>\n",
       "      <th>2</th>\n",
       "      <td>1003</td>\n",
       "      <td>2024-03-03</td>\n",
       "      <td>503</td>\n",
       "      <td>320.00</td>\n",
       "      <td>Casa</td>\n",
       "      <td>2</td>\n",
       "    </tr>\n",
       "    <tr>\n",
       "      <th>3</th>\n",
       "      <td>1004</td>\n",
       "      <td>2024-03-04</td>\n",
       "      <td>501</td>\n",
       "      <td>90.25</td>\n",
       "      <td>Eletrônicos</td>\n",
       "      <td>1</td>\n",
       "    </tr>\n",
       "    <tr>\n",
       "      <th>4</th>\n",
       "      <td>1005</td>\n",
       "      <td>2024-03-05</td>\n",
       "      <td>504</td>\n",
       "      <td>450.60</td>\n",
       "      <td>Esportes</td>\n",
       "      <td>4</td>\n",
       "    </tr>\n",
       "  </tbody>\n",
       "</table>\n",
       "</div>"
      ],
      "text/plain": [
       "   ID_Pedido   Dt_Compra  Cliente_ID  Valor_Total Categoria_Produto  \\\n",
       "0       1001  2024-03-01         501       150.75       Eletrônicos   \n",
       "1       1002  2024-03-02         502       200.50            Roupas   \n",
       "2       1003  2024-03-03         503       320.00              Casa   \n",
       "3       1004  2024-03-04         501        90.25       Eletrônicos   \n",
       "4       1005  2024-03-05         504       450.60          Esportes   \n",
       "\n",
       "   Quantidade  \n",
       "0           1  \n",
       "1           3  \n",
       "2           2  \n",
       "3           1  \n",
       "4           4  "
      ]
     },
     "execution_count": 28,
     "metadata": {},
     "output_type": "execute_result"
    }
   ],
   "source": [
    "# vizualizar nomes das colunas\n",
    "dados.rename(columns={'Data_Compra': 'Dt_Compra'})"
   ]
  },
  {
   "cell_type": "code",
   "execution_count": 29,
   "id": "e2bb2827",
   "metadata": {},
   "outputs": [],
   "source": [
    "colunas = ['pedido', 'data', 'cliente', 'valor', 'qntd']"
   ]
  },
  {
   "cell_type": "code",
   "execution_count": 30,
   "id": "4cd01f30",
   "metadata": {},
   "outputs": [
    {
     "data": {
      "text/plain": [
       "['ID_PEDIDO',\n",
       " 'DATA_COMPRA',\n",
       " 'CLIENTE_ID',\n",
       " 'VALOR_TOTAL',\n",
       " 'CATEGORIA_PRODUTO',\n",
       " 'QUANTIDADE']"
      ]
     },
     "metadata": {},
     "output_type": "display_data"
    }
   ],
   "source": [
    "colunas_minusculas = []\n",
    "\n",
    "colunas_maisculas = []\n",
    "\n",
    "for coluna in list(dados.columns):\n",
    "    colunas_maisculas.append(coluna.upper())\n",
    "\n",
    "display(colunas_maisculas)"
   ]
  }
 ],
 "metadata": {
  "kernelspec": {
   "display_name": ".venv",
   "language": "python",
   "name": "python3"
  },
  "language_info": {
   "codemirror_mode": {
    "name": "ipython",
    "version": 3
   },
   "file_extension": ".py",
   "mimetype": "text/x-python",
   "name": "python",
   "nbconvert_exporter": "python",
   "pygments_lexer": "ipython3",
   "version": "3.11.9"
  }
 },
 "nbformat": 4,
 "nbformat_minor": 5
}
