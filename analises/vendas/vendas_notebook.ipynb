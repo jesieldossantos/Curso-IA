{
 "cells": [
  {
   "cell_type": "code",
   "execution_count": 1,
   "id": "a872c7f0-59e2-40f5-90a4-6cf03e16052d",
   "metadata": {},
   "outputs": [
    {
     "name": "stdout",
     "output_type": "stream",
     "text": [
      "Note: you may need to restart the kernel to use updated packages.\n",
      "Note: you may need to restart the kernel to use updated packages.\n",
      "Note: you may need to restart the kernel to use updated packages.\n",
      "Note: you may need to restart the kernel to use updated packages.\n"
     ]
    }
   ],
   "source": [
    "%pip install pandas -q\n",
    "%pip install matplotlib -q\n",
    "%pip install matplot -q\n",
    "%pip install seaborn -q\n",
    "\n",
    "\n"
   ]
  },
  {
   "cell_type": "code",
   "execution_count": 2,
   "id": "2e29cd82",
   "metadata": {},
   "outputs": [],
   "source": [
    "import pandas as pd \n",
    "import seaborn as sns\n",
    "import matplotlib.pyplot as plt\n",
    "import numpy as np\n"
   ]
  },
  {
   "cell_type": "code",
   "execution_count": 3,
   "id": "ef2faa4f",
   "metadata": {},
   "outputs": [],
   "source": [
    "df_vendas = pd.read_csv('./vendas.csv', sep =';')"
   ]
  },
  {
   "cell_type": "code",
   "execution_count": 5,
   "id": "9d0f1db0",
   "metadata": {},
   "outputs": [
    {
     "data": {
      "text/html": [
       "<div>\n",
       "<style scoped>\n",
       "    .dataframe tbody tr th:only-of-type {\n",
       "        vertical-align: middle;\n",
       "    }\n",
       "\n",
       "    .dataframe tbody tr th {\n",
       "        vertical-align: top;\n",
       "    }\n",
       "\n",
       "    .dataframe thead th {\n",
       "        text-align: right;\n",
       "    }\n",
       "</style>\n",
       "<table border=\"1\" class=\"dataframe\">\n",
       "  <thead>\n",
       "    <tr style=\"text-align: right;\">\n",
       "      <th></th>\n",
       "      <th>ID_Pedido</th>\n",
       "      <th>Data_Compra</th>\n",
       "      <th>Cliente_ID</th>\n",
       "      <th>Valor_Total</th>\n",
       "      <th>Categoria_Produto</th>\n",
       "      <th>Quantidade</th>\n",
       "    </tr>\n",
       "  </thead>\n",
       "  <tbody>\n",
       "    <tr>\n",
       "      <th>0</th>\n",
       "      <td>1001</td>\n",
       "      <td>2024-03-01</td>\n",
       "      <td>501</td>\n",
       "      <td>150.75</td>\n",
       "      <td>Eletrônicos</td>\n",
       "      <td>1</td>\n",
       "    </tr>\n",
       "    <tr>\n",
       "      <th>1</th>\n",
       "      <td>1002</td>\n",
       "      <td>2024-03-02</td>\n",
       "      <td>502</td>\n",
       "      <td>200.50</td>\n",
       "      <td>Roupas</td>\n",
       "      <td>3</td>\n",
       "    </tr>\n",
       "    <tr>\n",
       "      <th>2</th>\n",
       "      <td>1003</td>\n",
       "      <td>2024-03-03</td>\n",
       "      <td>503</td>\n",
       "      <td>320.00</td>\n",
       "      <td>Casa</td>\n",
       "      <td>2</td>\n",
       "    </tr>\n",
       "    <tr>\n",
       "      <th>3</th>\n",
       "      <td>1004</td>\n",
       "      <td>2024-03-04</td>\n",
       "      <td>501</td>\n",
       "      <td>90.25</td>\n",
       "      <td>Eletrônicos</td>\n",
       "      <td>1</td>\n",
       "    </tr>\n",
       "    <tr>\n",
       "      <th>4</th>\n",
       "      <td>1005</td>\n",
       "      <td>2024-03-05</td>\n",
       "      <td>504</td>\n",
       "      <td>450.60</td>\n",
       "      <td>Esportes</td>\n",
       "      <td>4</td>\n",
       "    </tr>\n",
       "  </tbody>\n",
       "</table>\n",
       "</div>"
      ],
      "text/plain": [
       "   ID_Pedido Data_Compra  Cliente_ID  Valor_Total Categoria_Produto  \\\n",
       "0       1001  2024-03-01         501       150.75       Eletrônicos   \n",
       "1       1002  2024-03-02         502       200.50            Roupas   \n",
       "2       1003  2024-03-03         503       320.00              Casa   \n",
       "3       1004  2024-03-04         501        90.25       Eletrônicos   \n",
       "4       1005  2024-03-05         504       450.60          Esportes   \n",
       "\n",
       "   Quantidade  \n",
       "0           1  \n",
       "1           3  \n",
       "2           2  \n",
       "3           1  \n",
       "4           4  "
      ]
     },
     "execution_count": 5,
     "metadata": {},
     "output_type": "execute_result"
    }
   ],
   "source": [
    "df_vendas.head()"
   ]
  },
  {
   "cell_type": "code",
   "execution_count": 6,
   "id": "b2b83625",
   "metadata": {},
   "outputs": [
    {
     "data": {
      "text/html": [
       "<div>\n",
       "<style scoped>\n",
       "    .dataframe tbody tr th:only-of-type {\n",
       "        vertical-align: middle;\n",
       "    }\n",
       "\n",
       "    .dataframe tbody tr th {\n",
       "        vertical-align: top;\n",
       "    }\n",
       "\n",
       "    .dataframe thead th {\n",
       "        text-align: right;\n",
       "    }\n",
       "</style>\n",
       "<table border=\"1\" class=\"dataframe\">\n",
       "  <thead>\n",
       "    <tr style=\"text-align: right;\">\n",
       "      <th></th>\n",
       "      <th>ID_Pedido</th>\n",
       "      <th>Data_Compra</th>\n",
       "      <th>Cliente_ID</th>\n",
       "      <th>Valor_Total</th>\n",
       "      <th>Categoria_Produto</th>\n",
       "      <th>Quantidade</th>\n",
       "    </tr>\n",
       "  </thead>\n",
       "  <tbody>\n",
       "    <tr>\n",
       "      <th>0</th>\n",
       "      <td>1001</td>\n",
       "      <td>2024-03-01</td>\n",
       "      <td>501</td>\n",
       "      <td>150.75</td>\n",
       "      <td>Eletrônicos</td>\n",
       "      <td>1</td>\n",
       "    </tr>\n",
       "    <tr>\n",
       "      <th>1</th>\n",
       "      <td>1002</td>\n",
       "      <td>2024-03-02</td>\n",
       "      <td>502</td>\n",
       "      <td>200.50</td>\n",
       "      <td>Roupas</td>\n",
       "      <td>3</td>\n",
       "    </tr>\n",
       "    <tr>\n",
       "      <th>2</th>\n",
       "      <td>1003</td>\n",
       "      <td>2024-03-03</td>\n",
       "      <td>503</td>\n",
       "      <td>320.00</td>\n",
       "      <td>Casa</td>\n",
       "      <td>2</td>\n",
       "    </tr>\n",
       "    <tr>\n",
       "      <th>3</th>\n",
       "      <td>1004</td>\n",
       "      <td>2024-03-04</td>\n",
       "      <td>501</td>\n",
       "      <td>90.25</td>\n",
       "      <td>Eletrônicos</td>\n",
       "      <td>1</td>\n",
       "    </tr>\n",
       "    <tr>\n",
       "      <th>4</th>\n",
       "      <td>1005</td>\n",
       "      <td>2024-03-05</td>\n",
       "      <td>504</td>\n",
       "      <td>450.60</td>\n",
       "      <td>Esportes</td>\n",
       "      <td>4</td>\n",
       "    </tr>\n",
       "  </tbody>\n",
       "</table>\n",
       "</div>"
      ],
      "text/plain": [
       "   ID_Pedido Data_Compra  Cliente_ID  Valor_Total Categoria_Produto  \\\n",
       "0       1001  2024-03-01         501       150.75       Eletrônicos   \n",
       "1       1002  2024-03-02         502       200.50            Roupas   \n",
       "2       1003  2024-03-03         503       320.00              Casa   \n",
       "3       1004  2024-03-04         501        90.25       Eletrônicos   \n",
       "4       1005  2024-03-05         504       450.60          Esportes   \n",
       "\n",
       "   Quantidade  \n",
       "0           1  \n",
       "1           3  \n",
       "2           2  \n",
       "3           1  \n",
       "4           4  "
      ]
     },
     "execution_count": 6,
     "metadata": {},
     "output_type": "execute_result"
    }
   ],
   "source": [
    "df_vendas.tail()"
   ]
  },
  {
   "cell_type": "code",
   "execution_count": 9,
   "id": "b433ae17",
   "metadata": {},
   "outputs": [
    {
     "data": {
      "text/plain": [
       "(5, 6)"
      ]
     },
     "execution_count": 9,
     "metadata": {},
     "output_type": "execute_result"
    }
   ],
   "source": [
    "df_vendas.shape"
   ]
  },
  {
   "cell_type": "code",
   "execution_count": 11,
   "id": "4e6af680",
   "metadata": {},
   "outputs": [
    {
     "name": "stdout",
     "output_type": "stream",
     "text": [
      "<class 'pandas.core.frame.DataFrame'>\n",
      "RangeIndex: 5 entries, 0 to 4\n",
      "Data columns (total 6 columns):\n",
      " #   Column             Non-Null Count  Dtype  \n",
      "---  ------             --------------  -----  \n",
      " 0   ID_Pedido          5 non-null      int64  \n",
      " 1   Data_Compra        5 non-null      object \n",
      " 2   Cliente_ID         5 non-null      int64  \n",
      " 3   Valor_Total        5 non-null      float64\n",
      " 4   Categoria_Produto  5 non-null      object \n",
      " 5   Quantidade         5 non-null      int64  \n",
      "dtypes: float64(1), int64(3), object(2)\n",
      "memory usage: 372.0+ bytes\n"
     ]
    }
   ],
   "source": [
    "df_vendas.info()"
   ]
  },
  {
   "cell_type": "code",
   "execution_count": 12,
   "id": "bb0704d2",
   "metadata": {},
   "outputs": [
    {
     "data": {
      "text/html": [
       "<div>\n",
       "<style scoped>\n",
       "    .dataframe tbody tr th:only-of-type {\n",
       "        vertical-align: middle;\n",
       "    }\n",
       "\n",
       "    .dataframe tbody tr th {\n",
       "        vertical-align: top;\n",
       "    }\n",
       "\n",
       "    .dataframe thead th {\n",
       "        text-align: right;\n",
       "    }\n",
       "</style>\n",
       "<table border=\"1\" class=\"dataframe\">\n",
       "  <thead>\n",
       "    <tr style=\"text-align: right;\">\n",
       "      <th></th>\n",
       "      <th>ID_Pedido</th>\n",
       "      <th>Cliente_ID</th>\n",
       "      <th>Valor_Total</th>\n",
       "      <th>Quantidade</th>\n",
       "    </tr>\n",
       "  </thead>\n",
       "  <tbody>\n",
       "    <tr>\n",
       "      <th>count</th>\n",
       "      <td>5.000000</td>\n",
       "      <td>5.00000</td>\n",
       "      <td>5.000000</td>\n",
       "      <td>5.00000</td>\n",
       "    </tr>\n",
       "    <tr>\n",
       "      <th>mean</th>\n",
       "      <td>1003.000000</td>\n",
       "      <td>502.20000</td>\n",
       "      <td>242.420000</td>\n",
       "      <td>2.20000</td>\n",
       "    </tr>\n",
       "    <tr>\n",
       "      <th>std</th>\n",
       "      <td>1.581139</td>\n",
       "      <td>1.30384</td>\n",
       "      <td>143.765393</td>\n",
       "      <td>1.30384</td>\n",
       "    </tr>\n",
       "    <tr>\n",
       "      <th>min</th>\n",
       "      <td>1001.000000</td>\n",
       "      <td>501.00000</td>\n",
       "      <td>90.250000</td>\n",
       "      <td>1.00000</td>\n",
       "    </tr>\n",
       "    <tr>\n",
       "      <th>25%</th>\n",
       "      <td>1002.000000</td>\n",
       "      <td>501.00000</td>\n",
       "      <td>150.750000</td>\n",
       "      <td>1.00000</td>\n",
       "    </tr>\n",
       "    <tr>\n",
       "      <th>50%</th>\n",
       "      <td>1003.000000</td>\n",
       "      <td>502.00000</td>\n",
       "      <td>200.500000</td>\n",
       "      <td>2.00000</td>\n",
       "    </tr>\n",
       "    <tr>\n",
       "      <th>75%</th>\n",
       "      <td>1004.000000</td>\n",
       "      <td>503.00000</td>\n",
       "      <td>320.000000</td>\n",
       "      <td>3.00000</td>\n",
       "    </tr>\n",
       "    <tr>\n",
       "      <th>max</th>\n",
       "      <td>1005.000000</td>\n",
       "      <td>504.00000</td>\n",
       "      <td>450.600000</td>\n",
       "      <td>4.00000</td>\n",
       "    </tr>\n",
       "  </tbody>\n",
       "</table>\n",
       "</div>"
      ],
      "text/plain": [
       "         ID_Pedido  Cliente_ID  Valor_Total  Quantidade\n",
       "count     5.000000     5.00000     5.000000     5.00000\n",
       "mean   1003.000000   502.20000   242.420000     2.20000\n",
       "std       1.581139     1.30384   143.765393     1.30384\n",
       "min    1001.000000   501.00000    90.250000     1.00000\n",
       "25%    1002.000000   501.00000   150.750000     1.00000\n",
       "50%    1003.000000   502.00000   200.500000     2.00000\n",
       "75%    1004.000000   503.00000   320.000000     3.00000\n",
       "max    1005.000000   504.00000   450.600000     4.00000"
      ]
     },
     "execution_count": 12,
     "metadata": {},
     "output_type": "execute_result"
    }
   ],
   "source": [
    "df_vendas.describe()"
   ]
  },
  {
   "cell_type": "code",
   "execution_count": 13,
   "id": "5bb43337",
   "metadata": {},
   "outputs": [
    {
     "data": {
      "text/html": [
       "<div>\n",
       "<style scoped>\n",
       "    .dataframe tbody tr th:only-of-type {\n",
       "        vertical-align: middle;\n",
       "    }\n",
       "\n",
       "    .dataframe tbody tr th {\n",
       "        vertical-align: top;\n",
       "    }\n",
       "\n",
       "    .dataframe thead th {\n",
       "        text-align: right;\n",
       "    }\n",
       "</style>\n",
       "<table border=\"1\" class=\"dataframe\">\n",
       "  <thead>\n",
       "    <tr style=\"text-align: right;\">\n",
       "      <th></th>\n",
       "      <th>ID_Pedido</th>\n",
       "      <th>Data_Compra</th>\n",
       "      <th>Cliente_ID</th>\n",
       "      <th>Valor_Total</th>\n",
       "      <th>Categoria_Produto</th>\n",
       "      <th>Quantidade</th>\n",
       "    </tr>\n",
       "  </thead>\n",
       "  <tbody>\n",
       "    <tr>\n",
       "      <th>count</th>\n",
       "      <td>5.000000</td>\n",
       "      <td>5</td>\n",
       "      <td>5.00000</td>\n",
       "      <td>5.000000</td>\n",
       "      <td>5</td>\n",
       "      <td>5.00000</td>\n",
       "    </tr>\n",
       "    <tr>\n",
       "      <th>unique</th>\n",
       "      <td>NaN</td>\n",
       "      <td>5</td>\n",
       "      <td>NaN</td>\n",
       "      <td>NaN</td>\n",
       "      <td>4</td>\n",
       "      <td>NaN</td>\n",
       "    </tr>\n",
       "    <tr>\n",
       "      <th>top</th>\n",
       "      <td>NaN</td>\n",
       "      <td>2024-03-01</td>\n",
       "      <td>NaN</td>\n",
       "      <td>NaN</td>\n",
       "      <td>Eletrônicos</td>\n",
       "      <td>NaN</td>\n",
       "    </tr>\n",
       "    <tr>\n",
       "      <th>freq</th>\n",
       "      <td>NaN</td>\n",
       "      <td>1</td>\n",
       "      <td>NaN</td>\n",
       "      <td>NaN</td>\n",
       "      <td>2</td>\n",
       "      <td>NaN</td>\n",
       "    </tr>\n",
       "    <tr>\n",
       "      <th>mean</th>\n",
       "      <td>1003.000000</td>\n",
       "      <td>NaN</td>\n",
       "      <td>502.20000</td>\n",
       "      <td>242.420000</td>\n",
       "      <td>NaN</td>\n",
       "      <td>2.20000</td>\n",
       "    </tr>\n",
       "    <tr>\n",
       "      <th>std</th>\n",
       "      <td>1.581139</td>\n",
       "      <td>NaN</td>\n",
       "      <td>1.30384</td>\n",
       "      <td>143.765393</td>\n",
       "      <td>NaN</td>\n",
       "      <td>1.30384</td>\n",
       "    </tr>\n",
       "    <tr>\n",
       "      <th>min</th>\n",
       "      <td>1001.000000</td>\n",
       "      <td>NaN</td>\n",
       "      <td>501.00000</td>\n",
       "      <td>90.250000</td>\n",
       "      <td>NaN</td>\n",
       "      <td>1.00000</td>\n",
       "    </tr>\n",
       "    <tr>\n",
       "      <th>25%</th>\n",
       "      <td>1002.000000</td>\n",
       "      <td>NaN</td>\n",
       "      <td>501.00000</td>\n",
       "      <td>150.750000</td>\n",
       "      <td>NaN</td>\n",
       "      <td>1.00000</td>\n",
       "    </tr>\n",
       "    <tr>\n",
       "      <th>50%</th>\n",
       "      <td>1003.000000</td>\n",
       "      <td>NaN</td>\n",
       "      <td>502.00000</td>\n",
       "      <td>200.500000</td>\n",
       "      <td>NaN</td>\n",
       "      <td>2.00000</td>\n",
       "    </tr>\n",
       "    <tr>\n",
       "      <th>75%</th>\n",
       "      <td>1004.000000</td>\n",
       "      <td>NaN</td>\n",
       "      <td>503.00000</td>\n",
       "      <td>320.000000</td>\n",
       "      <td>NaN</td>\n",
       "      <td>3.00000</td>\n",
       "    </tr>\n",
       "    <tr>\n",
       "      <th>max</th>\n",
       "      <td>1005.000000</td>\n",
       "      <td>NaN</td>\n",
       "      <td>504.00000</td>\n",
       "      <td>450.600000</td>\n",
       "      <td>NaN</td>\n",
       "      <td>4.00000</td>\n",
       "    </tr>\n",
       "  </tbody>\n",
       "</table>\n",
       "</div>"
      ],
      "text/plain": [
       "          ID_Pedido Data_Compra  Cliente_ID  Valor_Total Categoria_Produto  \\\n",
       "count      5.000000           5     5.00000     5.000000                 5   \n",
       "unique          NaN           5         NaN          NaN                 4   \n",
       "top             NaN  2024-03-01         NaN          NaN       Eletrônicos   \n",
       "freq            NaN           1         NaN          NaN                 2   \n",
       "mean    1003.000000         NaN   502.20000   242.420000               NaN   \n",
       "std        1.581139         NaN     1.30384   143.765393               NaN   \n",
       "min     1001.000000         NaN   501.00000    90.250000               NaN   \n",
       "25%     1002.000000         NaN   501.00000   150.750000               NaN   \n",
       "50%     1003.000000         NaN   502.00000   200.500000               NaN   \n",
       "75%     1004.000000         NaN   503.00000   320.000000               NaN   \n",
       "max     1005.000000         NaN   504.00000   450.600000               NaN   \n",
       "\n",
       "        Quantidade  \n",
       "count      5.00000  \n",
       "unique         NaN  \n",
       "top            NaN  \n",
       "freq           NaN  \n",
       "mean       2.20000  \n",
       "std        1.30384  \n",
       "min        1.00000  \n",
       "25%        1.00000  \n",
       "50%        2.00000  \n",
       "75%        3.00000  \n",
       "max        4.00000  "
      ]
     },
     "execution_count": 13,
     "metadata": {},
     "output_type": "execute_result"
    }
   ],
   "source": [
    "df_vendas.describe(include='all')"
   ]
  },
  {
   "cell_type": "code",
   "execution_count": 14,
   "id": "f7921d80",
   "metadata": {},
   "outputs": [
    {
     "data": {
      "text/plain": [
       "Index(['ID_Pedido', 'Data_Compra', 'Cliente_ID', 'Valor_Total',\n",
       "       'Categoria_Produto', 'Quantidade'],\n",
       "      dtype='object')"
      ]
     },
     "execution_count": 14,
     "metadata": {},
     "output_type": "execute_result"
    }
   ],
   "source": [
    "df_vendas.columns"
   ]
  },
  {
   "cell_type": "code",
   "execution_count": 16,
   "id": "b27b0c85",
   "metadata": {},
   "outputs": [
    {
     "data": {
      "text/html": [
       "<div>\n",
       "<style scoped>\n",
       "    .dataframe tbody tr th:only-of-type {\n",
       "        vertical-align: middle;\n",
       "    }\n",
       "\n",
       "    .dataframe tbody tr th {\n",
       "        vertical-align: top;\n",
       "    }\n",
       "\n",
       "    .dataframe thead th {\n",
       "        text-align: right;\n",
       "    }\n",
       "</style>\n",
       "<table border=\"1\" class=\"dataframe\">\n",
       "  <thead>\n",
       "    <tr style=\"text-align: right;\">\n",
       "      <th></th>\n",
       "      <th>id_pedido</th>\n",
       "      <th>data_compra</th>\n",
       "      <th>cliente_id</th>\n",
       "      <th>valor_total</th>\n",
       "      <th>categoria_produto</th>\n",
       "      <th>quantidade</th>\n",
       "    </tr>\n",
       "  </thead>\n",
       "  <tbody>\n",
       "    <tr>\n",
       "      <th>0</th>\n",
       "      <td>1001</td>\n",
       "      <td>2024-03-01</td>\n",
       "      <td>501</td>\n",
       "      <td>150.75</td>\n",
       "      <td>Eletrônicos</td>\n",
       "      <td>1</td>\n",
       "    </tr>\n",
       "    <tr>\n",
       "      <th>1</th>\n",
       "      <td>1002</td>\n",
       "      <td>2024-03-02</td>\n",
       "      <td>502</td>\n",
       "      <td>200.50</td>\n",
       "      <td>Roupas</td>\n",
       "      <td>3</td>\n",
       "    </tr>\n",
       "    <tr>\n",
       "      <th>2</th>\n",
       "      <td>1003</td>\n",
       "      <td>2024-03-03</td>\n",
       "      <td>503</td>\n",
       "      <td>320.00</td>\n",
       "      <td>Casa</td>\n",
       "      <td>2</td>\n",
       "    </tr>\n",
       "    <tr>\n",
       "      <th>3</th>\n",
       "      <td>1004</td>\n",
       "      <td>2024-03-04</td>\n",
       "      <td>501</td>\n",
       "      <td>90.25</td>\n",
       "      <td>Eletrônicos</td>\n",
       "      <td>1</td>\n",
       "    </tr>\n",
       "    <tr>\n",
       "      <th>4</th>\n",
       "      <td>1005</td>\n",
       "      <td>2024-03-05</td>\n",
       "      <td>504</td>\n",
       "      <td>450.60</td>\n",
       "      <td>Esportes</td>\n",
       "      <td>4</td>\n",
       "    </tr>\n",
       "  </tbody>\n",
       "</table>\n",
       "</div>"
      ],
      "text/plain": [
       "   id_pedido data_compra  cliente_id  valor_total categoria_produto  \\\n",
       "0       1001  2024-03-01         501       150.75       Eletrônicos   \n",
       "1       1002  2024-03-02         502       200.50            Roupas   \n",
       "2       1003  2024-03-03         503       320.00              Casa   \n",
       "3       1004  2024-03-04         501        90.25       Eletrônicos   \n",
       "4       1005  2024-03-05         504       450.60          Esportes   \n",
       "\n",
       "   quantidade  \n",
       "0           1  \n",
       "1           3  \n",
       "2           2  \n",
       "3           1  \n",
       "4           4  "
      ]
     },
     "execution_count": 16,
     "metadata": {},
     "output_type": "execute_result"
    }
   ],
   "source": [
    "nome_colunas = list(df_vendas.columns)\n",
    "\n",
    "novas_colunas = []\n",
    "\n",
    "for coluna in nome_colunas:\n",
    "    novas_colunas.append(coluna.lower())\n",
    "\n",
    "df_vendas.columns = novas_colunas\n",
    "\n",
    "df_vendas.head()"
   ]
  },
  {
   "cell_type": "code",
   "execution_count": 17,
   "id": "8c32dd95",
   "metadata": {},
   "outputs": [
    {
     "data": {
      "text/plain": [
       "categoria_produto\n",
       "Esportes       220\n",
       "Beleza         206\n",
       "Eletrônicos    199\n",
       "Casa           193\n",
       "Roupas         182\n",
       "Name: count, dtype: int64"
      ]
     },
     "execution_count": 17,
     "metadata": {},
     "output_type": "execute_result"
    }
   ],
   "source": [
    "dataset_vendas['categoria_produto'].value_counts()"
   ]
  },
  {
   "cell_type": "code",
   "execution_count": 23,
   "id": "c957ea14",
   "metadata": {},
   "outputs": [
    {
     "name": "stdout",
     "output_type": "stream",
     "text": [
      "Media: 2.2\n",
      "Mediana: 2.0\n",
      "Moda: 0    1\n",
      "Name: quantidade, dtype: int64\n",
      "Variancia: 1.7\n",
      "Desvio padrão: 1.304\n"
     ]
    }
   ],
   "source": [
    "# média\n",
    "media = df_vendas['quantidade'].mean()\n",
    "\n",
    "# mediana\n",
    "mediana = df_vendas['quantidade'].median()\n",
    "\n",
    "# moda\n",
    "moda = df_vendas['quantidade'].mode()\n",
    "\n",
    "# variancia\n",
    "variancia = df_vendas['quantidade'].var()\n",
    "\n",
    "# desvio padrão\n",
    "desvio = df_vendas['quantidade'].std()\n",
    "\n",
    "# desvio padrão\n",
    "desvio = round(df_vendas['quantidade'].std(ddof=1), 3)\n",
    "\n",
    "print(f'Media: {media}')\n",
    "print(f'Mediana: {mediana}')\n",
    "print(f'Moda: {moda}')\n",
    "print(f'Variancia: {variancia}')\n",
    "print(f'Desvio padrão: {desvio}')"
   ]
  },
  {
   "cell_type": "code",
   "execution_count": 19,
   "id": "a7f1b96a",
   "metadata": {},
   "outputs": [
    {
     "data": {
      "text/html": [
       "<div>\n",
       "<style scoped>\n",
       "    .dataframe tbody tr th:only-of-type {\n",
       "        vertical-align: middle;\n",
       "    }\n",
       "\n",
       "    .dataframe tbody tr th {\n",
       "        vertical-align: top;\n",
       "    }\n",
       "\n",
       "    .dataframe thead th {\n",
       "        text-align: right;\n",
       "    }\n",
       "</style>\n",
       "<table border=\"1\" class=\"dataframe\">\n",
       "  <thead>\n",
       "    <tr style=\"text-align: right;\">\n",
       "      <th></th>\n",
       "      <th>id_pedido</th>\n",
       "      <th>data_compra</th>\n",
       "      <th>cliente_id</th>\n",
       "      <th>valor_total</th>\n",
       "      <th>categoria_produto</th>\n",
       "      <th>quantidade</th>\n",
       "    </tr>\n",
       "  </thead>\n",
       "  <tbody>\n",
       "    <tr>\n",
       "      <th>0</th>\n",
       "      <td>1001</td>\n",
       "      <td>2024-03-01</td>\n",
       "      <td>501</td>\n",
       "      <td>150.75</td>\n",
       "      <td>Eletrônicos</td>\n",
       "      <td>1</td>\n",
       "    </tr>\n",
       "    <tr>\n",
       "      <th>1</th>\n",
       "      <td>1002</td>\n",
       "      <td>2024-03-02</td>\n",
       "      <td>502</td>\n",
       "      <td>200.50</td>\n",
       "      <td>Roupas</td>\n",
       "      <td>3</td>\n",
       "    </tr>\n",
       "    <tr>\n",
       "      <th>2</th>\n",
       "      <td>1003</td>\n",
       "      <td>2024-03-03</td>\n",
       "      <td>503</td>\n",
       "      <td>320.00</td>\n",
       "      <td>Casa</td>\n",
       "      <td>2</td>\n",
       "    </tr>\n",
       "    <tr>\n",
       "      <th>3</th>\n",
       "      <td>1004</td>\n",
       "      <td>2024-03-04</td>\n",
       "      <td>501</td>\n",
       "      <td>90.25</td>\n",
       "      <td>Eletrônicos</td>\n",
       "      <td>1</td>\n",
       "    </tr>\n",
       "    <tr>\n",
       "      <th>4</th>\n",
       "      <td>1005</td>\n",
       "      <td>2024-03-05</td>\n",
       "      <td>504</td>\n",
       "      <td>450.60</td>\n",
       "      <td>Esportes</td>\n",
       "      <td>4</td>\n",
       "    </tr>\n",
       "  </tbody>\n",
       "</table>\n",
       "</div>"
      ],
      "text/plain": [
       "   id_pedido data_compra  cliente_id  valor_total categoria_produto  \\\n",
       "0       1001  2024-03-01         501       150.75       Eletrônicos   \n",
       "1       1002  2024-03-02         502       200.50            Roupas   \n",
       "2       1003  2024-03-03         503       320.00              Casa   \n",
       "3       1004  2024-03-04         501        90.25       Eletrônicos   \n",
       "4       1005  2024-03-05         504       450.60          Esportes   \n",
       "\n",
       "   quantidade  \n",
       "0           1  \n",
       "1           3  \n",
       "2           2  \n",
       "3           1  \n",
       "4           4  "
      ]
     },
     "execution_count": 19,
     "metadata": {},
     "output_type": "execute_result"
    }
   ],
   "source": [
    "df_vendas.columns = [coluna.lower() for coluna in list(df_vendas.columns)]\n",
    "\n",
    "df_vendas"
   ]
  },
  {
   "cell_type": "code",
   "execution_count": 21,
   "id": "d1bbd959",
   "metadata": {},
   "outputs": [
    {
     "data": {
      "text/plain": [
       "categoria_produto\n",
       "Eletrônicos    2\n",
       "Roupas         1\n",
       "Casa           1\n",
       "Esportes       1\n",
       "Name: count, dtype: int64"
      ]
     },
     "execution_count": 21,
     "metadata": {},
     "output_type": "execute_result"
    }
   ],
   "source": [
    "# Verificar o quanto que cada elemento se repete\n",
    "\n",
    "df_vendas['categoria_produto'].value_counts()"
   ]
  },
  {
   "cell_type": "code",
   "execution_count": 25,
   "id": "65aa94f8",
   "metadata": {},
   "outputs": [
    {
     "data": {
      "text/plain": [
       "cliente_id\n",
       "501    120.5\n",
       "502    200.5\n",
       "503    320.0\n",
       "504    450.6\n",
       "Name: valor_total, dtype: float64"
      ]
     },
     "execution_count": 25,
     "metadata": {},
     "output_type": "execute_result"
    }
   ],
   "source": [
    "df_vendas.groupby('cliente_id')['valor_total'].mean()"
   ]
  },
  {
   "cell_type": "code",
   "execution_count": 26,
   "id": "c37f0a5a",
   "metadata": {},
   "outputs": [
    {
     "data": {
      "text/plain": [
       "<Axes: >"
      ]
     },
     "execution_count": 26,
     "metadata": {},
     "output_type": "execute_result"
    },
    {
     "data": {
      "image/png": "[encoded data removed]",
      "text/plain": [
       "<Figure size 640x480 with 1 Axes>"
      ]
     },
     "metadata": {},
     "output_type": "display_data"
    }
   ],
   "source": [
    "df_vendas['quantidade'].hist()"
   ]
  },
  {
   "cell_type": "code",
   "execution_count": 28,
   "id": "9612098d",
   "metadata": {},
   "outputs": [
    {
     "data": {
      "text/plain": [
       "<Axes: >"
      ]
     },
     "execution_count": 28,
     "metadata": {},
     "output_type": "execute_result"
    },
    {
     "data": {
      "image/png": "[encoded data removed]",
      "text/plain": [
       "<Figure size 640x480 with 1 Axes>"
      ]
     },
     "metadata": {},
     "output_type": "display_data"
    }
   ],
   "source": [
    "df_vendas['valor_total'].plot()"
   ]
  },
  {
   "cell_type": "code",
   "execution_count": 30,
   "id": "fd6aa716",
   "metadata": {},
   "outputs": [
    {
     "data": {
      "image/png": "[encoded data removed]",
      "text/plain": [
       "<Figure size 640x480 with 1 Axes>"
      ]
     },
     "metadata": {},
     "output_type": "display_data"
    }
   ],
   "source": [
    "plt.hist(df_vendas['quantidade'])\n",
    "plt.show()"
   ]
  },
  {
   "cell_type": "code",
   "execution_count": 32,
   "id": "285ff62f",
   "metadata": {},
   "outputs": [
    {
     "data": {
      "image/png": "[encoded data removed]",
      "text/plain": [
       "<Figure size 640x480 with 1 Axes>"
      ]
     },
     "metadata": {},
     "output_type": "display_data"
    }
   ],
   "source": [
    "x = df_vendas['categoria_produto'].unique()\n",
    "y = df_vendas['quantidade'].value_counts()\n",
    "plt.bar(x, y)\n",
    "plt.show()"
   ]
  },
  {
   "cell_type": "code",
   "execution_count": 34,
   "id": "eea563d0",
   "metadata": {},
   "outputs": [
    {
     "data": {
      "image/png": "[encoded data removed]",
      "text/plain": [
       "<Figure size 640x480 with 1 Axes>"
      ]
     },
     "metadata": {},
     "output_type": "display_data"
    }
   ],
   "source": [
    "plt.bar(\n",
    "    df_vendas['categoria_produto'].unique(),\n",
    "    df_vendas['quantidade'].value_counts()\n",
    ")\n",
    "plt.show()"
   ]
  },
  {
   "cell_type": "code",
   "execution_count": 36,
   "id": "ae4ffc0d",
   "metadata": {},
   "outputs": [
    {
     "data": {
      "text/plain": [
       "<Axes: xlabel='categoria_produto'>"
      ]
     },
     "execution_count": 36,
     "metadata": {},
     "output_type": "execute_result"
    },
    {
     "data": {
      "image/png": "[encoded data removed]",
      "text/plain": [
       "<Figure size 640x480 with 1 Axes>"
      ]
     },
     "metadata": {},
     "output_type": "display_data"
    }
   ],
   "source": [
    "df_vendas['categoria_produto'].value_counts().plot.bar()"
   ]
  }
 ],
 "metadata": {
  "kernelspec": {
   "display_name": ".venv",
   "language": "python",
   "name": "python3"
  },
  "language_info": {
   "codemirror_mode": {
    "name": "ipython",
    "version": 3
   },
   "file_extension": ".py",
   "mimetype": "text/x-python",
   "name": "python",
   "nbconvert_exporter": "python",
   "pygments_lexer": "ipython3",
   "version": "3.11.9"
  }
 },
 "nbformat": 4,
 "nbformat_minor": 5
}
