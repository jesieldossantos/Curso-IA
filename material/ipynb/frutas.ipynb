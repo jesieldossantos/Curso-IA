{
 "cells": [
  {
   "cell_type": "markdown",
   "id": "2e418a06",
   "metadata": {},
   "source": [
    "# metricas de tendencia cental\n",
    "\n",
    "- media\n",
    "- mediana\n",
    "- moda\n",
    "-vasriancia\n",
    "-desvio padrao\n"
   ]
  },
  {
   "cell_type": "code",
   "execution_count": 1,
   "id": "2a560b95",
   "metadata": {},
   "outputs": [
    {
     "name": "stdout",
     "output_type": "stream",
     "text": [
      "<class 'dict'>\n",
      "{'frutas': ['banana', 'uva', 'maça', 'kiwi', 'morango', 'abacaxi', 'melao', 'pera'], 'lote': [5, 3, 4, 7, 7, 10, 10, 10], 'valor(u)': [50.85, 10.5, 8.0, 9.99, 10.85, 100.5, 8.8, 99.99]}\n"
     ]
    },
    {
     "data": {
      "text/plain": [
       "{'frutas': ['banana',\n",
       "  'uva',\n",
       "  'maça',\n",
       "  'kiwi',\n",
       "  'morango',\n",
       "  'abacaxi',\n",
       "  'melao',\n",
       "  'pera'],\n",
       " 'lote': [5, 3, 4, 7, 7, 10, 10, 10],\n",
       " 'valor(u)': [50.85, 10.5, 8.0, 9.99, 10.85, 100.5, 8.8, 99.99]}"
      ]
     },
     "metadata": {},
     "output_type": "display_data"
    }
   ],
   "source": [
    "frutas = {\n",
    "    'frutas':['banana','uva','maça','kiwi','morango','abacaxi','melao','pera'], \n",
    "    'lote':[5,3,4,7,7,10,10,10],\n",
    "    'valor(u)':[50.85, 10.50, 8.00, 9.99, 10.85, 100.50, 8.80, 99.99]\n",
    "}\n",
    "print(type(frutas))\n",
    "print(frutas)\n",
    "display(frutas)"
   ]
  },
  {
   "cell_type": "code",
   "execution_count": 2,
   "id": "ede6d899",
   "metadata": {},
   "outputs": [],
   "source": [
    "import pandas as pd"
   ]
  },
  {
   "cell_type": "code",
   "execution_count": 3,
   "id": "bbcbd477",
   "metadata": {},
   "outputs": [
    {
     "name": "stdout",
     "output_type": "stream",
     "text": [
      "<class 'pandas.core.frame.DataFrame'>\n"
     ]
    },
    {
     "data": {
      "text/html": [
       "<div>\n",
       "<style scoped>\n",
       "    .dataframe tbody tr th:only-of-type {\n",
       "        vertical-align: middle;\n",
       "    }\n",
       "\n",
       "    .dataframe tbody tr th {\n",
       "        vertical-align: top;\n",
       "    }\n",
       "\n",
       "    .dataframe thead th {\n",
       "        text-align: right;\n",
       "    }\n",
       "</style>\n",
       "<table border=\"1\" class=\"dataframe\">\n",
       "  <thead>\n",
       "    <tr style=\"text-align: right;\">\n",
       "      <th></th>\n",
       "      <th>frutas</th>\n",
       "      <th>lote</th>\n",
       "      <th>valor(u)</th>\n",
       "    </tr>\n",
       "  </thead>\n",
       "  <tbody>\n",
       "    <tr>\n",
       "      <th>0</th>\n",
       "      <td>banana</td>\n",
       "      <td>5</td>\n",
       "      <td>50.85</td>\n",
       "    </tr>\n",
       "    <tr>\n",
       "      <th>1</th>\n",
       "      <td>uva</td>\n",
       "      <td>3</td>\n",
       "      <td>10.50</td>\n",
       "    </tr>\n",
       "    <tr>\n",
       "      <th>2</th>\n",
       "      <td>maça</td>\n",
       "      <td>4</td>\n",
       "      <td>8.00</td>\n",
       "    </tr>\n",
       "    <tr>\n",
       "      <th>3</th>\n",
       "      <td>kiwi</td>\n",
       "      <td>7</td>\n",
       "      <td>9.99</td>\n",
       "    </tr>\n",
       "    <tr>\n",
       "      <th>4</th>\n",
       "      <td>morango</td>\n",
       "      <td>7</td>\n",
       "      <td>10.85</td>\n",
       "    </tr>\n",
       "    <tr>\n",
       "      <th>5</th>\n",
       "      <td>abacaxi</td>\n",
       "      <td>10</td>\n",
       "      <td>100.50</td>\n",
       "    </tr>\n",
       "    <tr>\n",
       "      <th>6</th>\n",
       "      <td>melao</td>\n",
       "      <td>10</td>\n",
       "      <td>8.80</td>\n",
       "    </tr>\n",
       "    <tr>\n",
       "      <th>7</th>\n",
       "      <td>pera</td>\n",
       "      <td>10</td>\n",
       "      <td>99.99</td>\n",
       "    </tr>\n",
       "  </tbody>\n",
       "</table>\n",
       "</div>"
      ],
      "text/plain": [
       "    frutas  lote  valor(u)\n",
       "0   banana     5     50.85\n",
       "1      uva     3     10.50\n",
       "2     maça     4      8.00\n",
       "3     kiwi     7      9.99\n",
       "4  morango     7     10.85\n",
       "5  abacaxi    10    100.50\n",
       "6    melao    10      8.80\n",
       "7     pera    10     99.99"
      ]
     },
     "metadata": {},
     "output_type": "display_data"
    }
   ],
   "source": [
    "# converter dicionario em dataframe\n",
    "df = pd.DataFrame(frutas)\n",
    "\n",
    "print(type(df))\n",
    "display(df)"
   ]
  },
  {
   "cell_type": "code",
   "execution_count": 4,
   "id": "cdd0c264",
   "metadata": {},
   "outputs": [
    {
     "data": {
      "text/html": [
       "<div>\n",
       "<style scoped>\n",
       "    .dataframe tbody tr th:only-of-type {\n",
       "        vertical-align: middle;\n",
       "    }\n",
       "\n",
       "    .dataframe tbody tr th {\n",
       "        vertical-align: top;\n",
       "    }\n",
       "\n",
       "    .dataframe thead th {\n",
       "        text-align: right;\n",
       "    }\n",
       "</style>\n",
       "<table border=\"1\" class=\"dataframe\">\n",
       "  <thead>\n",
       "    <tr style=\"text-align: right;\">\n",
       "      <th></th>\n",
       "      <th>frutas</th>\n",
       "      <th>lote</th>\n",
       "    </tr>\n",
       "  </thead>\n",
       "  <tbody>\n",
       "    <tr>\n",
       "      <th>0</th>\n",
       "      <td>banana</td>\n",
       "      <td>5</td>\n",
       "    </tr>\n",
       "    <tr>\n",
       "      <th>1</th>\n",
       "      <td>uva</td>\n",
       "      <td>3</td>\n",
       "    </tr>\n",
       "    <tr>\n",
       "      <th>2</th>\n",
       "      <td>maça</td>\n",
       "      <td>4</td>\n",
       "    </tr>\n",
       "    <tr>\n",
       "      <th>3</th>\n",
       "      <td>kiwi</td>\n",
       "      <td>7</td>\n",
       "    </tr>\n",
       "    <tr>\n",
       "      <th>4</th>\n",
       "      <td>morango</td>\n",
       "      <td>7</td>\n",
       "    </tr>\n",
       "    <tr>\n",
       "      <th>5</th>\n",
       "      <td>abacaxi</td>\n",
       "      <td>10</td>\n",
       "    </tr>\n",
       "    <tr>\n",
       "      <th>6</th>\n",
       "      <td>melao</td>\n",
       "      <td>10</td>\n",
       "    </tr>\n",
       "    <tr>\n",
       "      <th>7</th>\n",
       "      <td>pera</td>\n",
       "      <td>10</td>\n",
       "    </tr>\n",
       "  </tbody>\n",
       "</table>\n",
       "</div>"
      ],
      "text/plain": [
       "    frutas  lote\n",
       "0   banana     5\n",
       "1      uva     3\n",
       "2     maça     4\n",
       "3     kiwi     7\n",
       "4  morango     7\n",
       "5  abacaxi    10\n",
       "6    melao    10\n",
       "7     pera    10"
      ]
     },
     "execution_count": 4,
     "metadata": {},
     "output_type": "execute_result"
    }
   ],
   "source": [
    "colunas = [ 'frutas','lote']\n",
    "\n",
    "df_sem_valor = df[colunas]\n",
    "\n",
    "df_sem_valor"
   ]
  },
  {
   "cell_type": "code",
   "execution_count": 5,
   "id": "da70efb0",
   "metadata": {},
   "outputs": [
    {
     "name": "stdout",
     "output_type": "stream",
     "text": [
      "<class 'pandas.core.series.Series'>\n"
     ]
    }
   ],
   "source": [
    "print(type(df[ 'lote']))"
   ]
  },
  {
   "cell_type": "code",
   "execution_count": 6,
   "id": "e47c2356",
   "metadata": {},
   "outputs": [
    {
     "data": {
      "text/plain": [
       "np.float64(7.0)"
      ]
     },
     "execution_count": 6,
     "metadata": {},
     "output_type": "execute_result"
    }
   ],
   "source": [
    "# media\n",
    "df['lote'].mean()"
   ]
  },
  {
   "cell_type": "code",
   "execution_count": 7,
   "id": "076e0fa6",
   "metadata": {},
   "outputs": [
    {
     "data": {
      "text/plain": [
       "np.float64(7.0)"
      ]
     },
     "execution_count": 7,
     "metadata": {},
     "output_type": "execute_result"
    }
   ],
   "source": [
    "# mediana\n",
    "df['lote'].median()"
   ]
  },
  {
   "cell_type": "code",
   "execution_count": 8,
   "id": "0f8dbee6",
   "metadata": {},
   "outputs": [
    {
     "data": {
      "text/plain": [
       "0    10\n",
       "Name: lote, dtype: int64"
      ]
     },
     "execution_count": 8,
     "metadata": {},
     "output_type": "execute_result"
    }
   ],
   "source": [
    "# moda\n",
    "df['lote'].mode()"
   ]
  },
  {
   "cell_type": "code",
   "execution_count": 9,
   "id": "12718fbc",
   "metadata": {},
   "outputs": [
    {
     "data": {
      "text/plain": [
       "np.float64(8.0)"
      ]
     },
     "execution_count": 9,
     "metadata": {},
     "output_type": "execute_result"
    }
   ],
   "source": [
    "# Variancia\n",
    "df['lote'].var()"
   ]
  },
  {
   "cell_type": "code",
   "execution_count": 10,
   "id": "cc07c7b8",
   "metadata": {},
   "outputs": [
    {
     "data": {
      "text/plain": [
       "np.float64(2.8284271247461903)"
      ]
     },
     "execution_count": 10,
     "metadata": {},
     "output_type": "execute_result"
    }
   ],
   "source": [
    "# desvio padrao\n",
    "df['lote'].std()"
   ]
  },
  {
   "cell_type": "code",
   "execution_count": 11,
   "id": "d268031a",
   "metadata": {},
   "outputs": [
    {
     "name": "stdout",
     "output_type": "stream",
     "text": [
      "media: = 7.0\n",
      "mediana: = 7.0\n",
      "moda: = [10]\n",
      "variância: = 8.0\n",
      "desvio padrão: = 2.8284271247461903\n"
     ]
    }
   ],
   "source": [
    "media = df['lote'].mean()\n",
    "median = df['lote'].median()\n",
    "mode = df['lote'].mode()\n",
    "var = df['lote'].var()\n",
    "std = df['lote'].std()\n",
    "\n",
    "print(f'media: = {media}')\n",
    "print(f'mediana: = {median}')\n",
    "print(f'moda: = {mode.values}')\n",
    "print(f'variância: = {var}')\n",
    "print(f'desvio padrão: = {std}')\n",
    "\n"
   ]
  },
  {
   "cell_type": "code",
   "execution_count": 12,
   "id": "1d764865",
   "metadata": {},
   "outputs": [
    {
     "data": {
      "text/html": [
       "<div>\n",
       "<style scoped>\n",
       "    .dataframe tbody tr th:only-of-type {\n",
       "        vertical-align: middle;\n",
       "    }\n",
       "\n",
       "    .dataframe tbody tr th {\n",
       "        vertical-align: top;\n",
       "    }\n",
       "\n",
       "    .dataframe thead th {\n",
       "        text-align: right;\n",
       "    }\n",
       "</style>\n",
       "<table border=\"1\" class=\"dataframe\">\n",
       "  <thead>\n",
       "    <tr style=\"text-align: right;\">\n",
       "      <th></th>\n",
       "      <th>lote</th>\n",
       "      <th>valor(u)</th>\n",
       "    </tr>\n",
       "  </thead>\n",
       "  <tbody>\n",
       "    <tr>\n",
       "      <th>count</th>\n",
       "      <td>8.000000</td>\n",
       "      <td>8.000000</td>\n",
       "    </tr>\n",
       "    <tr>\n",
       "      <th>mean</th>\n",
       "      <td>7.000000</td>\n",
       "      <td>37.435000</td>\n",
       "    </tr>\n",
       "    <tr>\n",
       "      <th>std</th>\n",
       "      <td>2.828427</td>\n",
       "      <td>41.304015</td>\n",
       "    </tr>\n",
       "    <tr>\n",
       "      <th>min</th>\n",
       "      <td>3.000000</td>\n",
       "      <td>8.000000</td>\n",
       "    </tr>\n",
       "    <tr>\n",
       "      <th>25%</th>\n",
       "      <td>4.750000</td>\n",
       "      <td>9.692500</td>\n",
       "    </tr>\n",
       "    <tr>\n",
       "      <th>50%</th>\n",
       "      <td>7.000000</td>\n",
       "      <td>10.675000</td>\n",
       "    </tr>\n",
       "    <tr>\n",
       "      <th>75%</th>\n",
       "      <td>10.000000</td>\n",
       "      <td>63.135000</td>\n",
       "    </tr>\n",
       "    <tr>\n",
       "      <th>max</th>\n",
       "      <td>10.000000</td>\n",
       "      <td>100.500000</td>\n",
       "    </tr>\n",
       "  </tbody>\n",
       "</table>\n",
       "</div>"
      ],
      "text/plain": [
       "            lote    valor(u)\n",
       "count   8.000000    8.000000\n",
       "mean    7.000000   37.435000\n",
       "std     2.828427   41.304015\n",
       "min     3.000000    8.000000\n",
       "25%     4.750000    9.692500\n",
       "50%     7.000000   10.675000\n",
       "75%    10.000000   63.135000\n",
       "max    10.000000  100.500000"
      ]
     },
     "execution_count": 12,
     "metadata": {},
     "output_type": "execute_result"
    }
   ],
   "source": [
    "df.describe()"
   ]
  }
 ],
 "metadata": {
  "kernelspec": {
   "display_name": "Python 3",
   "language": "python",
   "name": "python3"
  },
  "language_info": {
   "codemirror_mode": {
    "name": "ipython",
    "version": 3
   },
   "file_extension": ".py",
   "mimetype": "text/x-python",
   "name": "python",
   "nbconvert_exporter": "python",
   "pygments_lexer": "ipython3",
   "version": "3.11.9"
  }
 },
 "nbformat": 4,
 "nbformat_minor": 5
}
