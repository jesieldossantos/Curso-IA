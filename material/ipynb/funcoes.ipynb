{
 "cells": [
  {
   "cell_type": "markdown",
   "metadata": {},
   "source": [
    "# Funçoes\n",
    "\n",
    "são elelementos que realiza uma determinada açao ao qual foi programada, e pode ser reutilizada a qualquer momento"
   ]
  },
  {
   "cell_type": "code",
   "execution_count": 1,
   "metadata": {},
   "outputs": [],
   "source": [
    "def soma(numero1, numero2):\n",
    "    return numero1 + numero2"
   ]
  },
  {
   "cell_type": "code",
   "execution_count": 2,
   "metadata": {},
   "outputs": [
    {
     "name": "stdout",
     "output_type": "stream",
     "text": [
      "15\n",
      "9\n",
      "29\n",
      "3443\n"
     ]
    }
   ],
   "source": [
    "print(soma(10,5))\n",
    "      \n",
    "print(soma(2,7))\n",
    "\n",
    "print(soma(22,7))\n",
    "\n",
    "print(soma(2666,777))            "
   ]
  },
  {
   "cell_type": "code",
   "execution_count": 3,
   "metadata": {},
   "outputs": [
    {
     "name": "stdout",
     "output_type": "stream",
     "text": [
      "95\n"
     ]
    }
   ],
   "source": [
    "print(soma(45,50))"
   ]
  },
  {
   "cell_type": "code",
   "execution_count": 4,
   "metadata": {},
   "outputs": [],
   "source": [
    "def subtração(numero1, numero2):\n",
    "    return numero1 - numero2\n"
   ]
  },
  {
   "cell_type": "code",
   "execution_count": 5,
   "metadata": {},
   "outputs": [
    {
     "name": "stdout",
     "output_type": "stream",
     "text": [
      "5\n"
     ]
    }
   ],
   "source": [
    "print(subtração(50,45))"
   ]
  },
  {
   "cell_type": "code",
   "execution_count": 6,
   "metadata": {},
   "outputs": [],
   "source": [
    "def multiplicação(numero1, numero2):\n",
    "    return numero1 * numero2"
   ]
  },
  {
   "cell_type": "code",
   "execution_count": 7,
   "metadata": {},
   "outputs": [
    {
     "name": "stdout",
     "output_type": "stream",
     "text": [
      "2250\n"
     ]
    }
   ],
   "source": [
    "print(multiplicação(50,45))\n"
   ]
  },
  {
   "cell_type": "code",
   "execution_count": 8,
   "metadata": {},
   "outputs": [],
   "source": [
    "def divisão(numero1, numero2):\n",
    "    return numero1 / numero2"
   ]
  },
  {
   "cell_type": "code",
   "execution_count": 9,
   "metadata": {},
   "outputs": [
    {
     "name": "stdout",
     "output_type": "stream",
     "text": [
      "10.0\n"
     ]
    }
   ],
   "source": [
    "print(divisão(50,5))"
   ]
  },
  {
   "cell_type": "code",
   "execution_count": 10,
   "metadata": {},
   "outputs": [
    {
     "name": "stdout",
     "output_type": "stream",
     "text": [
      "15\n"
     ]
    }
   ],
   "source": [
    "primeiro_numero = 10\n",
    "segundo_numero = 5\n",
    "\n",
    "soma = lambda x,y : x + y\n",
    "print(soma(primeiro_numero, segundo_numero))"
   ]
  },
  {
   "cell_type": "code",
   "execution_count": 11,
   "metadata": {},
   "outputs": [
    {
     "name": "stdout",
     "output_type": "stream",
     "text": [
      "[1100.0, 55.0, 550.0, 935.0]\n"
     ]
    }
   ],
   "source": [
    "boletos_atrasados = [1000, 50, 500, 850]\n",
    "\n",
    "boletos_com_juros = list()\n",
    "\n",
    "for boleto in boletos_atrasados:\n",
    "    boleto_juros = boleto + (boleto * 0.1)\n",
    "    boletos_com_juros.append(boleto_juros)\n",
    "\n",
    "print(boletos_com_juros)"
   ]
  },
  {
   "cell_type": "code",
   "execution_count": 12,
   "metadata": {},
   "outputs": [],
   "source": [
    "def juros(boleto):\n",
    "    boleto_juros = boleto + (boleto * 0.1)\n",
    "    return boleto_juros"
   ]
  },
  {
   "cell_type": "code",
   "execution_count": 13,
   "metadata": {},
   "outputs": [
    {
     "name": "stdout",
     "output_type": "stream",
     "text": [
      "[1100.0, 55.0, 550.0, 935.0]\n"
     ]
    }
   ],
   "source": [
    "boleto_juros2 = list(map(juros,boletos_atrasados ))\n",
    "print(boleto_juros2)"
   ]
  },
  {
   "cell_type": "code",
   "execution_count": 14,
   "metadata": {},
   "outputs": [],
   "source": [
    "juros_lambda = list( map( lambda boleto:boleto+boleto * 0.1 , boletos_atrasados ))"
   ]
  }
 ],
 "metadata": {
  "kernelspec": {
   "display_name": ".venv",
   "language": "python",
   "name": "python3"
  },
  "language_info": {
   "codemirror_mode": {
    "name": "ipython",
    "version": 3
   },
   "file_extension": ".py",
   "mimetype": "text/x-python",
   "name": "python",
   "nbconvert_exporter": "python",
   "pygments_lexer": "ipython3",
   "version": "3.11.9"
  }
 },
 "nbformat": 4,
 "nbformat_minor": 2
}
