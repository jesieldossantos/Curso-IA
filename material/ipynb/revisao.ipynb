{
 "cells": [
  {
   "cell_type": "markdown",
   "metadata": {},
   "source": [
    "# revisao de python\n",
    "## concatenaaçao de stings\n",
    "\n",
    "- sinal de soma +\n",
    "- format\n",
    "- format string"
   ]
  },
  {
   "cell_type": "code",
   "execution_count": null,
   "metadata": {},
   "outputs": [
    {
     "name": "stdout",
     "output_type": "stream",
     "text": [
      "meu nome completo é: Jesiel Santos\n"
     ]
    }
   ],
   "source": [
    "nome = 'Jesiel'\n",
    "sobrenome = 'Santos'\n",
    "\n",
    "# comentario com sinal de soma\n",
    "print('meu nome completo é: ' + nome + ' ' + sobrenome ) "
   ]
  },
  {
   "cell_type": "code",
   "execution_count": null,
   "metadata": {},
   "outputs": [
    {
     "name": "stdout",
     "output_type": "stream",
     "text": [
      "Meu nome completo é Jesiel Santos\n"
     ]
    }
   ],
   "source": [
    "# comentario com .format\n",
    "\n",
    "print('Meu nome completo é {} {}'.format(nome, sobrenome))"
   ]
  },
  {
   "cell_type": "code",
   "execution_count": null,
   "metadata": {},
   "outputs": [
    {
     "name": "stdout",
     "output_type": "stream",
     "text": [
      "meu nome completo é Jesiel Santos)\n"
     ]
    }
   ],
   "source": [
    "# format sring\n",
    "\n",
    "print(f\"meu nome completo é {nome} {sobrenome})\")\n"
   ]
  },
  {
   "cell_type": "code",
   "execution_count": null,
   "metadata": {},
   "outputs": [
    {
     "name": "stdout",
     "output_type": "stream",
     "text": [
      "voce é maior de idade\n"
     ]
    }
   ],
   "source": [
    "# if\n",
    "\n",
    "idade = 18\n",
    "\n",
    "if (idade>= 18):\n",
    "    print(\"voce é maior de idade\")\n",
    "else:print(\" voce e menor de idade\")"
   ]
  },
  {
   "cell_type": "code",
   "execution_count": null,
   "metadata": {},
   "outputs": [
    {
     "name": "stdout",
     "output_type": "stream",
     "text": [
      "voce e cotista\n"
     ]
    }
   ],
   "source": [
    "# usando elif\n",
    "cor = 'preto'\n",
    "\n",
    "if cor == 'preto':\n",
    "    print('voce e cotista')\n",
    "\n",
    "elif cor == 'pardo':\n",
    "    print('voce tambem e cotista')\n",
    "else:\n",
    "    print('voce nao e cotista')"
   ]
  },
  {
   "cell_type": "code",
   "execution_count": null,
   "metadata": {},
   "outputs": [
    {
     "name": "stdout",
     "output_type": "stream",
     "text": [
      "selecione sua refeição\n",
      " 1 - hamburguer\n",
      " 2 - pizza \n",
      " 3 - bolo \n",
      " 4 - maçã \n"
     ]
    }
   ],
   "source": [
    "print('selecione sua refeição')\n",
    "print(' 1 - hamburguer')\n",
    "print(' 2 - pizza ')\n",
    "print(' 3 - bolo ')\n",
    "print(' 4 - maçã ')\n",
    "\n",
    "escolha = int(input('Qual a opçap desejada '))\n",
    "\n",
    "match escolha:\n",
    "       \n",
    "    case 1 :\n",
    "         print('hamburguer, seja mais saudavel')\n",
    "    case 2 :\n",
    "         print('Pizza, seja mais saudavel')\n",
    "    case 3 :\n",
    "         print('Bolo, boa escolha')\n",
    "    case 4 :\n",
    "         print('maçã, ouse mais')\n",
    "    case _ :\n",
    "         print('escolha invalida')\n",
    "         print('programa encerrado com sucesso')\n",
    "\n"
   ]
  }
 ],
 "metadata": {
  "kernelspec": {
   "display_name": ".venv",
   "language": "python",
   "name": "python3"
  },
  "language_info": {
   "codemirror_mode": {
    "name": "ipython",
    "version": 3
   },
   "file_extension": ".py",
   "mimetype": "text/x-python",
   "name": "python",
   "nbconvert_exporter": "python",
   "pygments_lexer": "ipython3",
   "version": "3.11.9"
  }
 },
 "nbformat": 4,
 "nbformat_minor": 2
}
